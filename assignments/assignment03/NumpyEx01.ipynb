{
 "cells": [
  {
   "cell_type": "markdown",
   "metadata": {
    "nbgrader": {}
   },
   "source": [
    "# Numpy Exercise 1"
   ]
  },
  {
   "cell_type": "markdown",
   "metadata": {
    "nbgrader": {}
   },
   "source": [
    "## Imports"
   ]
  },
  {
   "cell_type": "code",
   "execution_count": 23,
   "metadata": {
    "collapsed": false,
    "nbgrader": {}
   },
   "outputs": [],
   "source": [
    "import numpy as np\n",
    "%matplotlib inline\n",
    "import matplotlib.pyplot as plt\n",
    "import seaborn as sns"
   ]
  },
  {
   "cell_type": "code",
   "execution_count": 24,
   "metadata": {
    "collapsed": false,
    "nbgrader": {}
   },
   "outputs": [],
   "source": [
    "import antipackage\n",
    "import github.ellisonbg.misc.vizarray as va"
   ]
  },
  {
   "cell_type": "markdown",
   "metadata": {
    "nbgrader": {}
   },
   "source": [
    "## Checkerboard"
   ]
  },
  {
   "cell_type": "markdown",
   "metadata": {
    "nbgrader": {}
   },
   "source": [
    "Write a Python function that creates a square `(size,size)` 2d Numpy array with the values `0.0` and `1.0`:\n",
    "\n",
    "* Your function should work for both odd and even `size`.\n",
    "* The `0,0` element should be `1.0`.\n",
    "* The `dtype` should be `float`."
   ]
  },
  {
   "cell_type": "code",
   "execution_count": 131,
   "metadata": {
    "collapsed": false
   },
   "outputs": [
    {
     "name": "stdout",
     "output_type": "stream",
     "text": [
      "[[ 1.  0.  1.  0.  1.  0.]\n",
      " [ 0.  1.  0.  1.  0.  1.]\n",
      " [ 1.  0.  1.  0.  1.  0.]\n",
      " [ 0.  1.  0.  1.  0.  1.]\n",
      " [ 1.  0.  1.  0.  1.  0.]\n",
      " [ 0.  1.  0.  1.  0.  1.]]\n"
     ]
    }
   ],
   "source": [
    "#Got online help on syntax for how to insert a number into a given row/column. \n",
    "def checkerboard(size):\n",
    "    a = np.ones((size,size),dtype=float)\n",
    "    a[::2,1::2] = 0\n",
    "    a[1::2,::2] = 0\n",
    "    print a\n",
    "\n",
    "checkerboard(6)"
   ]
  },
  {
   "cell_type": "code",
   "execution_count": 130,
   "metadata": {
    "collapsed": false,
    "deletable": false,
    "nbgrader": {
     "checksum": "a9259a1539798dd06c53d4699e5b89b7",
     "grade": true,
     "grade_id": "numpyex01a",
     "points": 6
    }
   },
   "outputs": [
    {
     "name": "stdout",
     "output_type": "stream",
     "text": [
      "[[ 1.  0.  1.  0.]\n",
      " [ 0.  1.  0.  1.]\n",
      " [ 1.  0.  1.  0.]\n",
      " [ 0.  1.  0.  1.]]\n"
     ]
    },
    {
     "ename": "TypeError",
     "evalue": "'NoneType' object has no attribute '__getitem__'",
     "output_type": "error",
     "traceback": [
      "\u001b[1;31m---------------------------------------------------------------------------\u001b[0m",
      "\u001b[1;31mTypeError\u001b[0m                                 Traceback (most recent call last)",
      "\u001b[1;32m<ipython-input-130-4aa63174c227>\u001b[0m in \u001b[0;36m<module>\u001b[1;34m()\u001b[0m\n\u001b[0;32m      1\u001b[0m \u001b[0ma\u001b[0m \u001b[1;33m=\u001b[0m \u001b[0mcheckerboard\u001b[0m\u001b[1;33m(\u001b[0m\u001b[1;36m4\u001b[0m\u001b[1;33m)\u001b[0m\u001b[1;33m\u001b[0m\u001b[0m\n\u001b[1;32m----> 2\u001b[1;33m \u001b[1;32massert\u001b[0m \u001b[0ma\u001b[0m\u001b[1;33m[\u001b[0m\u001b[1;36m0\u001b[0m\u001b[1;33m,\u001b[0m\u001b[1;36m0\u001b[0m\u001b[1;33m]\u001b[0m\u001b[1;33m==\u001b[0m\u001b[1;36m1.0\u001b[0m\u001b[1;33m\u001b[0m\u001b[0m\n\u001b[0m\u001b[0;32m      3\u001b[0m \u001b[1;32massert\u001b[0m \u001b[0ma\u001b[0m\u001b[1;33m.\u001b[0m\u001b[0msum\u001b[0m\u001b[1;33m(\u001b[0m\u001b[1;33m)\u001b[0m\u001b[1;33m==\u001b[0m\u001b[1;36m8.0\u001b[0m\u001b[1;33m\u001b[0m\u001b[0m\n\u001b[0;32m      4\u001b[0m \u001b[1;32massert\u001b[0m \u001b[0ma\u001b[0m\u001b[1;33m.\u001b[0m\u001b[0mdtype\u001b[0m\u001b[1;33m==\u001b[0m\u001b[0mnp\u001b[0m\u001b[1;33m.\u001b[0m\u001b[0mdtype\u001b[0m\u001b[1;33m(\u001b[0m\u001b[0mfloat\u001b[0m\u001b[1;33m)\u001b[0m\u001b[1;33m\u001b[0m\u001b[0m\n\u001b[0;32m      5\u001b[0m \u001b[1;32massert\u001b[0m \u001b[0mnp\u001b[0m\u001b[1;33m.\u001b[0m\u001b[0mall\u001b[0m\u001b[1;33m(\u001b[0m\u001b[0ma\u001b[0m\u001b[1;33m[\u001b[0m\u001b[1;36m0\u001b[0m\u001b[1;33m,\u001b[0m\u001b[1;36m0\u001b[0m\u001b[1;33m:\u001b[0m\u001b[1;36m5\u001b[0m\u001b[1;33m:\u001b[0m\u001b[1;36m2\u001b[0m\u001b[1;33m]\u001b[0m\u001b[1;33m==\u001b[0m\u001b[1;36m1.0\u001b[0m\u001b[1;33m)\u001b[0m\u001b[1;33m\u001b[0m\u001b[0m\n",
      "\u001b[1;31mTypeError\u001b[0m: 'NoneType' object has no attribute '__getitem__'"
     ]
    }
   ],
   "source": [
    "a = checkerboard(4)\n",
    "assert a[0,0]==1.0\n",
    "assert a.sum()==8.0\n",
    "assert a.dtype==np.dtype(float)\n",
    "assert np.all(a[0,0:5:2]==1.0)\n",
    "assert np.all(a[1,0:5:2]==0.0)\n",
    "\n",
    "b = checkerboard(5)\n",
    "assert b[0,0]==1.0\n",
    "assert b.sum()==13.0\n",
    "assert np.all(b.ravel()[0:26:2]==1.0)\n",
    "assert np.all(b.ravel()[1:25:2]==0.0)"
   ]
  },
  {
   "cell_type": "markdown",
   "metadata": {
    "nbgrader": {}
   },
   "source": [
    "Use `vizarray` to visualize a checkerboard of `size=20` with a block size of `10px`."
   ]
  },
  {
   "cell_type": "code",
   "execution_count": 170,
   "metadata": {
    "collapsed": true
   },
   "outputs": [],
   "source": [
    "import antipackage\n",
    "import github.ellisonbg.misc.vizarray as va\n",
    "\n",
    "import numpy as np\n",
    "%matplotlib inline\n",
    "import matplotlib.pyplot as plt\n",
    "import seaborn as sns\n",
    "va.enable()"
   ]
  },
  {
   "cell_type": "code",
   "execution_count": 171,
   "metadata": {
    "collapsed": false,
    "deletable": false,
    "nbgrader": {
     "checksum": "6cff4e8e53b15273846c3aecaea84a3d",
     "solution": true
    }
   },
   "outputs": [
    {
     "name": "stdout",
     "output_type": "stream",
     "text": [
      "[[ 1.  0.  1.  0.  1.  0.  1.  0.  1.  0.  1.  0.  1.  0.  1.  0.  1.  0.\n",
      "   1.  0.]\n",
      " [ 0.  1.  0.  1.  0.  1.  0.  1.  0.  1.  0.  1.  0.  1.  0.  1.  0.  1.\n",
      "   0.  1.]\n",
      " [ 1.  0.  1.  0.  1.  0.  1.  0.  1.  0.  1.  0.  1.  0.  1.  0.  1.  0.\n",
      "   1.  0.]\n",
      " [ 0.  1.  0.  1.  0.  1.  0.  1.  0.  1.  0.  1.  0.  1.  0.  1.  0.  1.\n",
      "   0.  1.]\n",
      " [ 1.  0.  1.  0.  1.  0.  1.  0.  1.  0.  1.  0.  1.  0.  1.  0.  1.  0.\n",
      "   1.  0.]\n",
      " [ 0.  1.  0.  1.  0.  1.  0.  1.  0.  1.  0.  1.  0.  1.  0.  1.  0.  1.\n",
      "   0.  1.]\n",
      " [ 1.  0.  1.  0.  1.  0.  1.  0.  1.  0.  1.  0.  1.  0.  1.  0.  1.  0.\n",
      "   1.  0.]\n",
      " [ 0.  1.  0.  1.  0.  1.  0.  1.  0.  1.  0.  1.  0.  1.  0.  1.  0.  1.\n",
      "   0.  1.]\n",
      " [ 1.  0.  1.  0.  1.  0.  1.  0.  1.  0.  1.  0.  1.  0.  1.  0.  1.  0.\n",
      "   1.  0.]\n",
      " [ 0.  1.  0.  1.  0.  1.  0.  1.  0.  1.  0.  1.  0.  1.  0.  1.  0.  1.\n",
      "   0.  1.]\n",
      " [ 1.  0.  1.  0.  1.  0.  1.  0.  1.  0.  1.  0.  1.  0.  1.  0.  1.  0.\n",
      "   1.  0.]\n",
      " [ 0.  1.  0.  1.  0.  1.  0.  1.  0.  1.  0.  1.  0.  1.  0.  1.  0.  1.\n",
      "   0.  1.]\n",
      " [ 1.  0.  1.  0.  1.  0.  1.  0.  1.  0.  1.  0.  1.  0.  1.  0.  1.  0.\n",
      "   1.  0.]\n",
      " [ 0.  1.  0.  1.  0.  1.  0.  1.  0.  1.  0.  1.  0.  1.  0.  1.  0.  1.\n",
      "   0.  1.]\n",
      " [ 1.  0.  1.  0.  1.  0.  1.  0.  1.  0.  1.  0.  1.  0.  1.  0.  1.  0.\n",
      "   1.  0.]\n",
      " [ 0.  1.  0.  1.  0.  1.  0.  1.  0.  1.  0.  1.  0.  1.  0.  1.  0.  1.\n",
      "   0.  1.]\n",
      " [ 1.  0.  1.  0.  1.  0.  1.  0.  1.  0.  1.  0.  1.  0.  1.  0.  1.  0.\n",
      "   1.  0.]\n",
      " [ 0.  1.  0.  1.  0.  1.  0.  1.  0.  1.  0.  1.  0.  1.  0.  1.  0.  1.\n",
      "   0.  1.]\n",
      " [ 1.  0.  1.  0.  1.  0.  1.  0.  1.  0.  1.  0.  1.  0.  1.  0.  1.  0.\n",
      "   1.  0.]\n",
      " [ 0.  1.  0.  1.  0.  1.  0.  1.  0.  1.  0.  1.  0.  1.  0.  1.  0.  1.\n",
      "   0.  1.]]\n",
      "0\n"
     ]
    },
    {
     "ename": "NameError",
     "evalue": "name 'vizarray' is not defined",
     "output_type": "error",
     "traceback": [
      "\u001b[1;31m---------------------------------------------------------------------------\u001b[0m",
      "\u001b[1;31mNameError\u001b[0m                                 Traceback (most recent call last)",
      "\u001b[1;32m<ipython-input-171-8600a61e520f>\u001b[0m in \u001b[0;36m<module>\u001b[1;34m()\u001b[0m\n\u001b[0;32m      9\u001b[0m \u001b[0mva\u001b[0m\u001b[1;33m.\u001b[0m\u001b[0menable\u001b[0m\u001b[1;33m(\u001b[0m\u001b[1;33m)\u001b[0m\u001b[1;33m\u001b[0m\u001b[0m\n\u001b[0;32m     10\u001b[0m \u001b[0mcheckerboard\u001b[0m\u001b[1;33m(\u001b[0m\u001b[1;36m20\u001b[0m\u001b[1;33m)\u001b[0m\u001b[1;33m\u001b[0m\u001b[0m\n\u001b[1;32m---> 11\u001b[1;33m \u001b[0mvizarray\u001b[0m\u001b[1;33m.\u001b[0m\u001b[0mset_block_size\u001b[0m\u001b[1;33m(\u001b[0m\u001b[1;36m10\u001b[0m\u001b[1;33m)\u001b[0m\u001b[1;33m\u001b[0m\u001b[0m\n\u001b[0m",
      "\u001b[1;31mNameError\u001b[0m: name 'vizarray' is not defined"
     ]
    }
   ],
   "source": [
    "def checkerboard(size):\n",
    "    a = np.ones((size,size),dtype=float)\n",
    "    a[::2,1::2] = 0\n",
    "    a[1::2,::2] = 0\n",
    "    print a\n",
    "    va.vizarray(a)\n",
    "    \n",
    "va.enable()\n",
    "checkerboard(20)\n",
    "vizarray.set_block_size(10)"
   ]
  },
  {
   "cell_type": "code",
   "execution_count": 28,
   "metadata": {
    "collapsed": true,
    "deletable": false,
    "nbgrader": {
     "checksum": "e2b72320a52fdce32f4c88bdaa78a92a",
     "grade": true,
     "grade_id": "numpyex01b",
     "points": 2
    }
   },
   "outputs": [],
   "source": [
    "assert True"
   ]
  },
  {
   "cell_type": "markdown",
   "metadata": {
    "nbgrader": {}
   },
   "source": [
    "Use `vizarray` to visualize a checkerboard of `size=27` with a block size of `5px`."
   ]
  },
  {
   "cell_type": "code",
   "execution_count": 172,
   "metadata": {
    "collapsed": false,
    "deletable": false,
    "nbgrader": {
     "checksum": "6cff4e8e53b15273846c3aecaea84a3d",
     "solution": true
    }
   },
   "outputs": [
    {
     "name": "stdout",
     "output_type": "stream",
     "text": [
      "[[ 1.  0.  1.  0.  1.  0.  1.  0.  1.  0.  1.  0.  1.  0.  1.  0.  1.  0.\n",
      "   1.  0.  1.  0.  1.  0.  1.  0.  1.]\n",
      " [ 0.  1.  0.  1.  0.  1.  0.  1.  0.  1.  0.  1.  0.  1.  0.  1.  0.  1.\n",
      "   0.  1.  0.  1.  0.  1.  0.  1.  0.]\n",
      " [ 1.  0.  1.  0.  1.  0.  1.  0.  1.  0.  1.  0.  1.  0.  1.  0.  1.  0.\n",
      "   1.  0.  1.  0.  1.  0.  1.  0.  1.]\n",
      " [ 0.  1.  0.  1.  0.  1.  0.  1.  0.  1.  0.  1.  0.  1.  0.  1.  0.  1.\n",
      "   0.  1.  0.  1.  0.  1.  0.  1.  0.]\n",
      " [ 1.  0.  1.  0.  1.  0.  1.  0.  1.  0.  1.  0.  1.  0.  1.  0.  1.  0.\n",
      "   1.  0.  1.  0.  1.  0.  1.  0.  1.]\n",
      " [ 0.  1.  0.  1.  0.  1.  0.  1.  0.  1.  0.  1.  0.  1.  0.  1.  0.  1.\n",
      "   0.  1.  0.  1.  0.  1.  0.  1.  0.]\n",
      " [ 1.  0.  1.  0.  1.  0.  1.  0.  1.  0.  1.  0.  1.  0.  1.  0.  1.  0.\n",
      "   1.  0.  1.  0.  1.  0.  1.  0.  1.]\n",
      " [ 0.  1.  0.  1.  0.  1.  0.  1.  0.  1.  0.  1.  0.  1.  0.  1.  0.  1.\n",
      "   0.  1.  0.  1.  0.  1.  0.  1.  0.]\n",
      " [ 1.  0.  1.  0.  1.  0.  1.  0.  1.  0.  1.  0.  1.  0.  1.  0.  1.  0.\n",
      "   1.  0.  1.  0.  1.  0.  1.  0.  1.]\n",
      " [ 0.  1.  0.  1.  0.  1.  0.  1.  0.  1.  0.  1.  0.  1.  0.  1.  0.  1.\n",
      "   0.  1.  0.  1.  0.  1.  0.  1.  0.]\n",
      " [ 1.  0.  1.  0.  1.  0.  1.  0.  1.  0.  1.  0.  1.  0.  1.  0.  1.  0.\n",
      "   1.  0.  1.  0.  1.  0.  1.  0.  1.]\n",
      " [ 0.  1.  0.  1.  0.  1.  0.  1.  0.  1.  0.  1.  0.  1.  0.  1.  0.  1.\n",
      "   0.  1.  0.  1.  0.  1.  0.  1.  0.]\n",
      " [ 1.  0.  1.  0.  1.  0.  1.  0.  1.  0.  1.  0.  1.  0.  1.  0.  1.  0.\n",
      "   1.  0.  1.  0.  1.  0.  1.  0.  1.]\n",
      " [ 0.  1.  0.  1.  0.  1.  0.  1.  0.  1.  0.  1.  0.  1.  0.  1.  0.  1.\n",
      "   0.  1.  0.  1.  0.  1.  0.  1.  0.]\n",
      " [ 1.  0.  1.  0.  1.  0.  1.  0.  1.  0.  1.  0.  1.  0.  1.  0.  1.  0.\n",
      "   1.  0.  1.  0.  1.  0.  1.  0.  1.]\n",
      " [ 0.  1.  0.  1.  0.  1.  0.  1.  0.  1.  0.  1.  0.  1.  0.  1.  0.  1.\n",
      "   0.  1.  0.  1.  0.  1.  0.  1.  0.]\n",
      " [ 1.  0.  1.  0.  1.  0.  1.  0.  1.  0.  1.  0.  1.  0.  1.  0.  1.  0.\n",
      "   1.  0.  1.  0.  1.  0.  1.  0.  1.]\n",
      " [ 0.  1.  0.  1.  0.  1.  0.  1.  0.  1.  0.  1.  0.  1.  0.  1.  0.  1.\n",
      "   0.  1.  0.  1.  0.  1.  0.  1.  0.]\n",
      " [ 1.  0.  1.  0.  1.  0.  1.  0.  1.  0.  1.  0.  1.  0.  1.  0.  1.  0.\n",
      "   1.  0.  1.  0.  1.  0.  1.  0.  1.]\n",
      " [ 0.  1.  0.  1.  0.  1.  0.  1.  0.  1.  0.  1.  0.  1.  0.  1.  0.  1.\n",
      "   0.  1.  0.  1.  0.  1.  0.  1.  0.]\n",
      " [ 1.  0.  1.  0.  1.  0.  1.  0.  1.  0.  1.  0.  1.  0.  1.  0.  1.  0.\n",
      "   1.  0.  1.  0.  1.  0.  1.  0.  1.]\n",
      " [ 0.  1.  0.  1.  0.  1.  0.  1.  0.  1.  0.  1.  0.  1.  0.  1.  0.  1.\n",
      "   0.  1.  0.  1.  0.  1.  0.  1.  0.]\n",
      " [ 1.  0.  1.  0.  1.  0.  1.  0.  1.  0.  1.  0.  1.  0.  1.  0.  1.  0.\n",
      "   1.  0.  1.  0.  1.  0.  1.  0.  1.]\n",
      " [ 0.  1.  0.  1.  0.  1.  0.  1.  0.  1.  0.  1.  0.  1.  0.  1.  0.  1.\n",
      "   0.  1.  0.  1.  0.  1.  0.  1.  0.]\n",
      " [ 1.  0.  1.  0.  1.  0.  1.  0.  1.  0.  1.  0.  1.  0.  1.  0.  1.  0.\n",
      "   1.  0.  1.  0.  1.  0.  1.  0.  1.]\n",
      " [ 0.  1.  0.  1.  0.  1.  0.  1.  0.  1.  0.  1.  0.  1.  0.  1.  0.  1.\n",
      "   0.  1.  0.  1.  0.  1.  0.  1.  0.]\n",
      " [ 1.  0.  1.  0.  1.  0.  1.  0.  1.  0.  1.  0.  1.  0.  1.  0.  1.  0.\n",
      "   1.  0.  1.  0.  1.  0.  1.  0.  1.]]\n"
     ]
    },
    {
     "ename": "NameError",
     "evalue": "name 'vizarray' is not defined",
     "output_type": "error",
     "traceback": [
      "\u001b[1;31m---------------------------------------------------------------------------\u001b[0m",
      "\u001b[1;31mNameError\u001b[0m                                 Traceback (most recent call last)",
      "\u001b[1;32m<ipython-input-172-6234b53ac6f0>\u001b[0m in \u001b[0;36m<module>\u001b[1;34m()\u001b[0m\n\u001b[0;32m      8\u001b[0m \u001b[0mva\u001b[0m\u001b[1;33m.\u001b[0m\u001b[0menable\u001b[0m\u001b[1;33m(\u001b[0m\u001b[1;33m)\u001b[0m\u001b[1;33m\u001b[0m\u001b[0m\n\u001b[0;32m      9\u001b[0m \u001b[0mcheckerboard\u001b[0m\u001b[1;33m(\u001b[0m\u001b[1;36m27\u001b[0m\u001b[1;33m)\u001b[0m\u001b[1;33m\u001b[0m\u001b[0m\n\u001b[1;32m---> 10\u001b[1;33m \u001b[0mvizarray\u001b[0m\u001b[1;33m.\u001b[0m\u001b[0mset_block_size\u001b[0m\u001b[1;33m(\u001b[0m\u001b[1;36m5\u001b[0m\u001b[1;33m)\u001b[0m\u001b[1;33m\u001b[0m\u001b[0m\n\u001b[0m",
      "\u001b[1;31mNameError\u001b[0m: name 'vizarray' is not defined"
     ]
    }
   ],
   "source": [
    "def checkerboard(size):\n",
    "    a = np.ones((size,size),dtype=float)\n",
    "    a[::2,1::2] = 0\n",
    "    a[1::2,::2] = 0\n",
    "    print a\n",
    "    va.vizarray(a)\n",
    "    \n",
    "va.enable()\n",
    "checkerboard(27)\n",
    "vizarray.set_block_size(5)"
   ]
  },
  {
   "cell_type": "code",
   "execution_count": 164,
   "metadata": {
    "collapsed": true,
    "deletable": false,
    "nbgrader": {
     "checksum": "1f1c7ef9e0b2d19d4290ed461d43ff2c",
     "grade": true,
     "grade_id": "numpyex01c",
     "points": 2
    }
   },
   "outputs": [],
   "source": [
    "assert True"
   ]
  }
 ],
 "metadata": {
  "kernelspec": {
   "display_name": "Python 2",
   "language": "python",
   "name": "python2"
  },
  "language_info": {
   "codemirror_mode": {
    "name": "ipython",
    "version": 2
   },
   "file_extension": ".py",
   "mimetype": "text/x-python",
   "name": "python",
   "nbconvert_exporter": "python",
   "pygments_lexer": "ipython2",
   "version": "2.7.6"
  }
 },
 "nbformat": 4,
 "nbformat_minor": 0
}
