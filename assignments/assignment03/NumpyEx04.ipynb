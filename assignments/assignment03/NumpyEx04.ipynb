{
 "cells": [
  {
   "cell_type": "markdown",
   "metadata": {
    "nbgrader": {}
   },
   "source": [
    "# Numpy Exercise 4"
   ]
  },
  {
   "cell_type": "markdown",
   "metadata": {
    "nbgrader": {}
   },
   "source": [
    "## Imports"
   ]
  },
  {
   "cell_type": "code",
   "execution_count": 16,
   "metadata": {
    "collapsed": false,
    "nbgrader": {}
   },
   "outputs": [],
   "source": [
    "import numpy as np\n",
    "%matplotlib inline\n",
    "import matplotlib.pyplot as plt\n",
    "import seaborn as sns"
   ]
  },
  {
   "cell_type": "markdown",
   "metadata": {
    "nbgrader": {}
   },
   "source": [
    "## Complete graph Laplacian"
   ]
  },
  {
   "cell_type": "markdown",
   "metadata": {
    "nbgrader": {}
   },
   "source": [
    "In discrete mathematics a [Graph](http://en.wikipedia.org/wiki/Graph_%28mathematics%29) is a set of *vertices* or *nodes* that are connected to each other by *edges* or *lines*. If those *edges* don't have directionality, the graph is said to be *undirected*. Graphs are used to model social and communications networks (Twitter, Facebook, Internet) as well as natural systems such as molecules.\n",
    "\n",
    "A [Complete Graph](http://en.wikipedia.org/wiki/Complete_graph), $K_n$ on $n$ nodes has an edge that connects each node to every other node.\n",
    "\n",
    "Here is $K_5$:"
   ]
  },
  {
   "cell_type": "code",
   "execution_count": 17,
   "metadata": {
    "collapsed": false,
    "nbgrader": {}
   },
   "outputs": [
    {
     "data": {
      "image/png": "[encoded data removed]",
      "text/plain": [
       "<matplotlib.figure.Figure at 0x7f7508067750>"
      ]
     },
     "metadata": {},
     "output_type": "display_data"
    }
   ],
   "source": [
    "import networkx as nx\n",
    "K_5=nx.complete_graph(5)\n",
    "nx.draw(K_5)"
   ]
  },
  {
   "cell_type": "markdown",
   "metadata": {
    "collapsed": false,
    "nbgrader": {}
   },
   "source": [
    "The [Laplacian Matrix](http://en.wikipedia.org/wiki/Laplacian_matrix) is a matrix that is extremely important in graph theory and numerical analysis. It is defined as $L=D-A$. Where $D$ is the degree matrix and $A$ is the adjecency matrix. For the purpose of this problem you don't need to understand the details of these matrices, although their definitions are relatively simple.\n",
    "\n",
    "The degree matrix for $K_n$ is an $n \\times n$ diagonal matrix with the value $n-1$ along the diagonal and zeros everywhere else. Write a function to compute the degree matrix for $K_n$ using NumPy."
   ]
  },
  {
   "cell_type": "code",
   "execution_count": 18,
   "metadata": {
    "collapsed": false,
    "nbgrader": {
     "checksum": "00d28c9ea423c0f2985eda865ec5ccee",
     "solution": true
    }
   },
   "outputs": [
    {
     "data": {
      "text/plain": [
       "array([[4, 0, 0, 0, 0],\n",
       "       [0, 4, 0, 0, 0],\n",
       "       [0, 0, 4, 0, 0],\n",
       "       [0, 0, 0, 4, 0],\n",
       "       [0, 0, 0, 0, 4]])"
      ]
     },
     "execution_count": 18,
     "metadata": {},
     "output_type": "execute_result"
    }
   ],
   "source": [
    "#Found the function np.fill_diagonal() online\n",
    "def complete_deg(n):\n",
    "    \"\"\"Return the integer valued degree matrix D for the complete graph K_n.\"\"\"\n",
    "    z = np.zeros((n,n),dtype=int)\n",
    "    np.fill_diagonal(z, n-1)\n",
    "    return z\n",
    "    \n",
    "complete_deg(5)"
   ]
  },
  {
   "cell_type": "code",
   "execution_count": 19,
   "metadata": {
    "collapsed": false,
    "deletable": false,
    "nbgrader": {
     "checksum": "7f2a5f03b1a59c05f397ce1e4d9ae4a1",
     "grade": true,
     "grade_id": "numpyex04a",
     "points": 4
    }
   },
   "outputs": [],
   "source": [
    "D = complete_deg(5)\n",
    "assert D.shape==(5,5)\n",
    "assert D.dtype==np.dtype(int)\n",
    "assert np.all(D.diagonal()==4*np.ones(5))\n",
    "assert np.all(D-np.diag(D.diagonal())==np.zeros((5,5),dtype=int))"
   ]
  },
  {
   "cell_type": "markdown",
   "metadata": {
    "nbgrader": {}
   },
   "source": [
    "The adjacency matrix for $K_n$ is an $n \\times n$ matrix with zeros along the diagonal and ones everywhere else. Write a function to compute the adjacency matrix for $K_n$ using NumPy."
   ]
  },
  {
   "cell_type": "code",
   "execution_count": 20,
   "metadata": {
    "collapsed": false,
    "nbgrader": {
     "checksum": "5285cd3c10582e2d30d4a93530092306",
     "solution": true
    }
   },
   "outputs": [
    {
     "data": {
      "text/plain": [
       "array([[0, 1, 1, 1, 1],\n",
       "       [1, 0, 1, 1, 1],\n",
       "       [1, 1, 0, 1, 1],\n",
       "       [1, 1, 1, 0, 1],\n",
       "       [1, 1, 1, 1, 0]])"
      ]
     },
     "execution_count": 20,
     "metadata": {},
     "output_type": "execute_result"
    }
   ],
   "source": [
    "def complete_adj(n):\n",
    "    \"\"\"Return the integer valued adjacency matrix A for the complete graph K_n.\"\"\"\n",
    "    z = np.ones((n,n),dtype=int)\n",
    "    np.fill_diagonal(z, 0)\n",
    "    return z\n",
    "    \n",
    "complete_adj(5)"
   ]
  },
  {
   "cell_type": "code",
   "execution_count": 21,
   "metadata": {
    "collapsed": false,
    "deletable": false,
    "nbgrader": {
     "checksum": "658e2e7db6ac6b06f7349682477e75ce",
     "grade": true,
     "grade_id": "numpyex04b",
     "points": 4
    }
   },
   "outputs": [],
   "source": [
    "A = complete_adj(5)\n",
    "assert A.shape==(5,5)\n",
    "assert A.dtype==np.dtype(int)\n",
    "assert np.all(A+np.eye(5,dtype=int)==np.ones((5,5),dtype=int))"
   ]
  },
  {
   "cell_type": "markdown",
   "metadata": {
    "nbgrader": {}
   },
   "source": [
    "Use NumPy to explore the eigenvalues or *spectrum* of the Laplacian *L* of $K_n$. What patterns do you notice as $n$ changes? Create a *conjecture* about the general Laplace *spectrum* of $K_n$."
   ]
  },
  {
   "cell_type": "code",
   "execution_count": 22,
   "metadata": {
    "collapsed": false,
    "deletable": false,
    "nbgrader": {
     "checksum": "6cff4e8e53b15273846c3aecaea84a3d",
     "solution": true
    }
   },
   "outputs": [
    {
     "data": {
      "text/plain": [
       "array([ 5.,  0.,  5.,  5.,  5.])"
      ]
     },
     "execution_count": 22,
     "metadata": {},
     "output_type": "execute_result"
    }
   ],
   "source": [
    "Kn=D-A\n",
    "np.linalg.eigvals(Kn)"
   ]
  },
  {
   "cell_type": "markdown",
   "metadata": {
    "collapsed": true,
    "deletable": false,
    "nbgrader": {
     "checksum": "662bdfcc6fa217197b1ba6a46fc50211",
     "grade": true,
     "grade_id": "numpyex04c",
     "points": 2,
     "solution": true
    }
   },
   "source": [
    "As n changes the diagonal values are the only ones that change. They increase as n increase while all the other values stay constant at -1. The dimension also changes as n changes, dimension increases as n increases."
   ]
  },
  {
   "cell_type": "code",
   "execution_count": null,
   "metadata": {
    "collapsed": true
   },
   "outputs": [],
   "source": []
  }
 ],
 "metadata": {
  "kernelspec": {
   "display_name": "Python 2",
   "language": "python",
   "name": "python2"
  },
  "language_info": {
   "codemirror_mode": {
    "name": "ipython",
    "version": 2
   },
   "file_extension": ".py",
   "mimetype": "text/x-python",
   "name": "python",
   "nbconvert_exporter": "python",
   "pygments_lexer": "ipython2",
   "version": "2.7.6"
  }
 },
 "nbformat": 4,
 "nbformat_minor": 0
}
