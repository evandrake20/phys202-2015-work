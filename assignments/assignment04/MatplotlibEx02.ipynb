{
 "cells": [
  {
   "cell_type": "markdown",
   "metadata": {
    "nbgrader": {}
   },
   "source": [
    "# Matplotlib Exercise 2"
   ]
  },
  {
   "cell_type": "markdown",
   "metadata": {
    "nbgrader": {}
   },
   "source": [
    "## Imports"
   ]
  },
  {
   "cell_type": "code",
   "execution_count": 2,
   "metadata": {
    "collapsed": true,
    "nbgrader": {}
   },
   "outputs": [],
   "source": [
    "%matplotlib inline\n",
    "import matplotlib.pyplot as plt\n",
    "import numpy as np"
   ]
  },
  {
   "cell_type": "markdown",
   "metadata": {
    "collapsed": true,
    "nbgrader": {}
   },
   "source": [
    "## Exoplanet properties"
   ]
  },
  {
   "cell_type": "markdown",
   "metadata": {
    "nbgrader": {}
   },
   "source": [
    "Over the past few decades, astronomers have discovered thousands of extrasolar planets. The following paper describes the properties of some of these planets.\n",
    "\n",
    "http://iopscience.iop.org/1402-4896/2008/T130/014001\n",
    "\n",
    "Your job is to reproduce Figures 2 and 4 from this paper using an up-to-date dataset of extrasolar planets found on this GitHub repo:\n",
    "\n",
    "https://github.com/OpenExoplanetCatalogue/open_exoplanet_catalogue\n",
    "\n",
    "A text version of the dataset has already been put into this directory. The top of the file has documentation about each column of data:"
   ]
  },
  {
   "cell_type": "code",
   "execution_count": 3,
   "metadata": {
    "collapsed": false,
    "nbgrader": {}
   },
   "outputs": [
    {
     "name": "stdout",
     "output_type": "stream",
     "text": [
      "# Open Exoplanet Catalogue.\r",
      "\r\n",
      "# https://github.com/hannorein/open_exoplanet_catalogue\r",
      "\r\n",
      "# \r",
      "\r\n",
      "# Columns: \r",
      "\r\n",
      "# \r",
      "\r\n",
      "#  1: Primary identifier of planet\r",
      "\r\n",
      "#  2: Binary flag [0=no known stellar binary companion; 1=P-type binary (circumbinary); 2=S-type binary; 3=orphan planet (no star)]\r",
      "\r\n",
      "#  3: Planetary mass [Jupiter masses]\r",
      "\r\n",
      "#  4: Radius [Jupiter radii]\r",
      "\r\n",
      "#  5: Period [days]\r",
      "\r\n",
      "#  6: Semi-major axis [Astronomical Units]\r",
      "\r\n",
      "#  7: Eccentricity\r",
      "\r\n",
      "#  8: Periastron [degree]\r",
      "\r\n",
      "#  9: Longitude [degree]\r",
      "\r\n",
      "# 10: Ascending node [degree]\r",
      "\r\n",
      "# 11: Inclination [degree]\r",
      "\r\n",
      "# 12: Surface or equilibrium temperature [K]\r",
      "\r\n",
      "# 13: Age [Gyr]\r",
      "\r\n",
      "# 14: Discovery method\r",
      "\r\n",
      "# 15: Discovery year [yyyy]\r",
      "\r\n",
      "# 16: Last updated [yy/mm/dd]\r",
      "\r\n",
      "# 17: Right ascension [hh mm ss]\r",
      "\r\n",
      "# 18: Declination [+/-dd mm ss]\r",
      "\r\n",
      "# 19: Distance from Sun [parsec]\r",
      "\r\n",
      "# 20: Host star mass [Solar masses]\r",
      "\r\n",
      "# 21: Host star radius [Solar radii]\r",
      "\r\n",
      "# 22: Host star metallicity [log relative to solar]\r",
      "\r\n",
      "# 23: Host star temperature [K]\r",
      "\r\n",
      "# 24: Host star age [Gyr]\r",
      "\r\n",
      "# \r",
      "\r\n"
     ]
    }
   ],
   "source": [
    "!head -n 30 open_exoplanet_catalogue.txt\n",
    "from numpy import genfromtxt, savetxt"
   ]
  },
  {
   "cell_type": "markdown",
   "metadata": {
    "nbgrader": {}
   },
   "source": [
    "Use `np.genfromtxt` with a delimiter of `','` to read the data into a NumPy array called `data`:"
   ]
  },
  {
   "cell_type": "code",
   "execution_count": 18,
   "metadata": {
    "collapsed": false,
    "deletable": false,
    "nbgrader": {
     "checksum": "6cff4e8e53b15273846c3aecaea84a3d",
     "solution": true
    }
   },
   "outputs": [],
   "source": [
    "data = np.genfromtxt('open_exoplanet_catalogue.txt', delimiter=\",\")\n"
   ]
  },
  {
   "cell_type": "code",
   "execution_count": 19,
   "metadata": {
    "collapsed": false,
    "deletable": false,
    "nbgrader": {
     "checksum": "5dcbc888bcd5ce68169a037e67cdd37f",
     "grade": true,
     "grade_id": "matplotlibex02a",
     "points": 2
    }
   },
   "outputs": [],
   "source": [
    "assert data.shape==(1993,24)"
   ]
  },
  {
   "cell_type": "markdown",
   "metadata": {
    "nbgrader": {}
   },
   "source": [
    "Make a histogram of the distribution of planetary masses. This will reproduce Figure 2 in the original paper.\n",
    "\n",
    "* Customize your plot to follow Tufte's principles of visualizations.\n",
    "* Customize the box, grid, spines and ticks to match the requirements of this data.\n",
    "* Pick the number of bins for the histogram appropriately."
   ]
  },
  {
   "cell_type": "code",
   "execution_count": 32,
   "metadata": {
    "collapsed": false,
    "deletable": false,
    "nbgrader": {
     "checksum": "6cff4e8e53b15273846c3aecaea84a3d",
     "solution": true
    }
   },
   "outputs": [
    {
     "data": {
      "image/png": "[encoded data removed]",
      "text/plain": [
       "<matplotlib.figure.Figure at 0x7fe328193390>"
      ]
     },
     "metadata": {},
     "output_type": "display_data"
    }
   ],
   "source": [
    "def remove_spines(axes=None, top=False, right=False):\n",
    "    ax = axes or plt.gca()\n",
    "    ax.spines['top'].set_visible(top)\n",
    "    ax.spines['right'].set_visible(right)\n",
    "\n",
    "plt.hist(data[:,2], range=(0,14), bins=30, color='c')\n",
    "plt.tick_params(axis='y', direction='out', length=5)\n",
    "plt.tick_params(axis='x', direction='out', length=5)\n",
    "plt.xlabel('Semi-major Axis')\n",
    "plt.ylabel('Planetary Mass')\n",
    "plt.title('My Plot')\n",
    "remove_spines()"
   ]
  },
  {
   "cell_type": "code",
   "execution_count": 33,
   "metadata": {
    "collapsed": true,
    "deletable": false,
    "nbgrader": {
     "checksum": "27c6f50d571df0da41b2bed77769300e",
     "grade": true,
     "grade_id": "matplotlibex02b",
     "points": 4
    }
   },
   "outputs": [],
   "source": [
    "assert True # leave for grading"
   ]
  },
  {
   "cell_type": "markdown",
   "metadata": {
    "nbgrader": {}
   },
   "source": [
    "Make a scatter plot of the orbital eccentricity (y) versus the semimajor axis. This will reproduce Figure 4 of the original paper. Use a log scale on the x axis.\n",
    "\n",
    "* Customize your plot to follow Tufte's principles of visualizations.\n",
    "* Customize the box, grid, spines and ticks to match the requirements of this data."
   ]
  },
  {
   "cell_type": "code",
   "execution_count": 34,
   "metadata": {
    "collapsed": false,
    "deletable": false,
    "nbgrader": {
     "checksum": "6cff4e8e53b15273846c3aecaea84a3d",
     "solution": true
    }
   },
   "outputs": [
    {
     "data": {
      "image/png": "[encoded data removed]",
      "text/plain": [
       "<matplotlib.figure.Figure at 0x7fe328198208>"
      ]
     },
     "metadata": {},
     "output_type": "display_data"
    }
   ],
   "source": [
    "def remove_spines(axes=None, top=False, right=False):\n",
    "    ax = axes or plt.gca()\n",
    "    ax.spines['top'].set_visible(top)\n",
    "    ax.spines['right'].set_visible(right)\n",
    "\n",
    "plt.scatter(data[:,5], data[:,6], marker = '*', color= 'red')\n",
    "plt.ylim(0.0,1.0)\n",
    "plt.xlim(0.01, 10.0)\n",
    "plt.xscale('log')\n",
    "plt.tick_params(axis='y', direction='out', length=5)\n",
    "plt.tick_params(axis='x', direction='out', length=5)\n",
    "plt.xlabel('Semi-major Axis')\n",
    "plt.ylabel('Eccentricity')\n",
    "plt.title('My Plot')\n",
    "remove_spines()"
   ]
  },
  {
   "cell_type": "code",
   "execution_count": 35,
   "metadata": {
    "collapsed": true,
    "deletable": false,
    "nbgrader": {
     "checksum": "eac3900a2375e914caac56021476284b",
     "grade": true,
     "grade_id": "matplotlibex02c",
     "points": 4
    }
   },
   "outputs": [],
   "source": [
    "assert True # leave for grading"
   ]
  },
  {
   "cell_type": "code",
   "execution_count": null,
   "metadata": {
    "collapsed": true
   },
   "outputs": [],
   "source": []
  }
 ],
 "metadata": {
  "kernelspec": {
   "display_name": "Python 3",
   "language": "python",
   "name": "python3"
  },
  "language_info": {
   "codemirror_mode": {
    "name": "ipython",
    "version": 3
   },
   "file_extension": ".py",
   "mimetype": "text/x-python",
   "name": "python",
   "nbconvert_exporter": "python",
   "pygments_lexer": "ipython3",
   "version": "3.4.0"
  }
 },
 "nbformat": 4,
 "nbformat_minor": 0
}
