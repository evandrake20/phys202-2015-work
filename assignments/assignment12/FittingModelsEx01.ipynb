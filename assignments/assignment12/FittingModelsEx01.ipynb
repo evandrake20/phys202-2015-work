{
 "cells": [
  {
   "cell_type": "markdown",
   "metadata": {
    "nbgrader": {}
   },
   "source": [
    "# Fitting Models Exercise 1"
   ]
  },
  {
   "cell_type": "markdown",
   "metadata": {
    "nbgrader": {}
   },
   "source": [
    "## Imports"
   ]
  },
  {
   "cell_type": "code",
   "execution_count": 69,
   "metadata": {
    "collapsed": false,
    "nbgrader": {}
   },
   "outputs": [],
   "source": [
    "%matplotlib inline\n",
    "import matplotlib.pyplot as plt\n",
    "import numpy as np\n",
    "import scipy.optimize as opt\n",
    "from IPython.html.widgets import interact"
   ]
  },
  {
   "cell_type": "markdown",
   "metadata": {
    "nbgrader": {}
   },
   "source": [
    "## Fitting a quadratic curve"
   ]
  },
  {
   "cell_type": "markdown",
   "metadata": {
    "nbgrader": {}
   },
   "source": [
    "For this problem we are going to work with the following model:\n",
    "\n",
    "$$ y_{model}(x) = a x^2 + b x + c $$\n",
    "\n",
    "The true values of the model parameters are as follows:"
   ]
  },
  {
   "cell_type": "code",
   "execution_count": 70,
   "metadata": {
    "collapsed": true,
    "nbgrader": {}
   },
   "outputs": [],
   "source": [
    "a_true = 0.5\n",
    "b_true = 2.0\n",
    "c_true = -4.0"
   ]
  },
  {
   "cell_type": "markdown",
   "metadata": {
    "nbgrader": {}
   },
   "source": [
    "First, generate a dataset using this model using these parameters and the following characteristics:\n",
    "\n",
    "* For your $x$ data use 30 uniformly spaced points between $[-5,5]$.\n",
    "* Add a noise term to the $y$ value at each point that is drawn from a normal distribution with zero mean and standard deviation 2.0. Make sure you add a different random number to each point (see the `size` argument of `np.random.normal`).\n",
    "\n",
    "After you generate the data, make a plot of the raw data (use points)."
   ]
  },
  {
   "cell_type": "code",
   "execution_count": 71,
   "metadata": {
    "collapsed": false,
    "deletable": false,
    "nbgrader": {
     "checksum": "6cff4e8e53b15273846c3aecaea84a3d",
     "solution": true
    }
   },
   "outputs": [
    {
     "data": {
      "image/png": "[encoded data removed]",
      "text/plain": [
       "<matplotlib.figure.Figure at 0x7f2f368e03c8>"
      ]
     },
     "metadata": {},
     "output_type": "display_data"
    }
   ],
   "source": [
    "N = 30\n",
    "x = np.linspace(-5,5,N)\n",
    "std = 2.0\n",
    "y = a_true*(x**2) + b_true*x + c_true + np.random.normal(0.0, std, size=N)\n",
    "\n",
    "plt.errorbar(x,y, std, fmt='g.');"
   ]
  },
  {
   "cell_type": "code",
   "execution_count": 72,
   "metadata": {
    "collapsed": true,
    "deletable": false,
    "nbgrader": {
     "checksum": "3acfeb5975cc4a690bc60e56103ce367",
     "grade": true,
     "grade_id": "fittingmodelsex01a",
     "points": 5
    }
   },
   "outputs": [],
   "source": [
    "assert True # leave this cell for grading the raw data generation and plot"
   ]
  },
  {
   "cell_type": "markdown",
   "metadata": {
    "nbgrader": {}
   },
   "source": [
    "Now fit the model to the dataset to recover estimates for the model's parameters:\n",
    "\n",
    "* Print out the estimates and uncertainties of each parameter.\n",
    "* Plot the raw data and best fit of the model."
   ]
  },
  {
   "cell_type": "code",
   "execution_count": 73,
   "metadata": {
    "collapsed": false,
    "deletable": false,
    "nbgrader": {
     "checksum": "6cff4e8e53b15273846c3aecaea84a3d",
     "solution": true
    }
   },
   "outputs": [],
   "source": [
    "def chi2(theta, x1, y1, std):\n",
    "    return np.sum(((y - theta[0]*x1**2 - theta[1]*x1 - theta[2])/dy)**2 )\n",
    "def fit(a,b,c):\n",
    "    modely = a*x**2 + b*x + c\n",
    "    plt.plot(x, modely)\n",
    "    plt.errorbar(x, y, std,\n",
    "             fmt='.k', ecolor='lightgray')\n",
    "    plt.xlabel('x')\n",
    "    plt.ylabel('y')"
   ]
  },
  {
   "cell_type": "code",
   "execution_count": 74,
   "metadata": {
    "collapsed": false
   },
   "outputs": [
    {
     "data": {
      "image/png": "[encoded data removed]",
      "text/plain": [
       "<matplotlib.figure.Figure at 0x7f2f36c69470>"
      ]
     },
     "metadata": {},
     "output_type": "display_data"
    }
   ],
   "source": [
    "fit(0.5,2.0,-4.0)"
   ]
  },
  {
   "cell_type": "code",
   "execution_count": 75,
   "metadata": {
    "collapsed": true,
    "deletable": false,
    "nbgrader": {
     "checksum": "5c7b35cc43322f076fb2acf1cddfc759",
     "grade": true,
     "grade_id": "fittingmodelsex01b",
     "points": 5
    }
   },
   "outputs": [],
   "source": [
    "assert True # leave this cell for grading the fit; should include a plot and printout of the parameters+errors"
   ]
  }
 ],
 "metadata": {
  "kernelspec": {
   "display_name": "Python 3",
   "language": "python",
   "name": "python3"
  },
  "language_info": {
   "codemirror_mode": {
    "name": "ipython",
    "version": 3
   },
   "file_extension": ".py",
   "mimetype": "text/x-python",
   "name": "python",
   "nbconvert_exporter": "python",
   "pygments_lexer": "ipython3",
   "version": "3.4.0"
  }
 },
 "nbformat": 4,
 "nbformat_minor": 0
}
