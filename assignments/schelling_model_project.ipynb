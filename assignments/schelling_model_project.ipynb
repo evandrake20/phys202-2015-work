{
 "cells": [
  {
   "cell_type": "code",
   "execution_count": 4,
   "metadata": {
    "collapsed": false
   },
   "outputs": [
    {
     "name": "stderr",
     "output_type": "stream",
     "text": [
      ":0: FutureWarning: IPython widgets are experimental and may change in the future.\n"
     ]
    }
   ],
   "source": [
    "import numpy as np\n",
    "from ipythonblocks import BlockGrid as bg\n",
    "from IPython.html.widgets import interact, interactive, fixed\n",
    "from IPython.html import widgets\n",
    "from IPython.display import display"
   ]
  },
  {
   "cell_type": "code",
   "execution_count": 5,
   "metadata": {
    "collapsed": true
   },
   "outputs": [],
   "source": [
    "def interacts(size):\n",
    "    return size\n",
    "def interacts1(satisfaction_percent_1):\n",
    "    return satisfaction_percent_1\n",
    "def interacts2(orange_percent):\n",
    "    return orange_percent\n",
    "def interacts3(blue_percent):\n",
    "    return blue_percent\n",
    "j = interactive(interacts, size = (1,20))\n",
    "p = interactive(interacts1, satisfaction_percent_1 = (0,1,0.01))\n",
    "o1 = interactive(interacts2, orange_percent = (0,1,0.01))\n",
    "b1 = interactive(interacts3, blue_percent = (0,1,0.01))\n",
    "display(j)\n",
    "display(p)\n",
    "display(b1)\n",
    "display(o1)"
   ]
  },
  {
   "cell_type": "code",
   "execution_count": 6,
   "metadata": {
    "collapsed": false
   },
   "outputs": [
    {
     "name": "stdout",
     "output_type": "stream",
     "text": [
      "1.0\n",
      "[[0 1 0 2 0 1 1 2 1 2]\n",
      " [2 1 0 0 0 0 2 0 0 0]\n",
      " [0 2 2 2 1 1 1 1 1 1]\n",
      " [1 0 1 2 1 2 2 1 2 0]\n",
      " [0 1 2 2 1 0 1 0 0 1]\n",
      " [0 2 1 0 2 2 2 2 2 1]\n",
      " [1 1 2 1 1 1 2 0 2 0]\n",
      " [0 1 1 1 2 1 2 1 0 2]\n",
      " [1 1 1 0 1 0 0 0 2 1]\n",
      " [0 2 1 0 1 0 0 1 2 1]]\n"
     ]
    }
   ],
   "source": [
    "k = j.result\n",
    "satisfaction_percent = p.result\n",
    "blue = b1.result\n",
    "orange = o1.result\n",
    "black = 1 - blue - orange\n",
    "print (black)\n",
    "y = k - 1\n",
    "grid = np.random.choice([0,1,2],size=(k,k),p = [.34,.33,.33])\n",
    "print (grid)\n",
    "grid2 = np.hstack(grid)\n",
    "grid1 = bg(k,k)\n"
   ]
  },
  {
   "cell_type": "code",
   "execution_count": 7,
   "metadata": {
    "collapsed": false
   },
   "outputs": [
    {
     "data": {
      "text/html": [
       "<style type=\"text/css\">table.blockgrid {border: none;} .blockgrid tr {border: none;} .blockgrid td {padding: 0px;} #blocksa712b1d1-dfbb-444b-a66b-4385f4c9646c td {border: 1px solid white;}</style><table id=\"blocksa712b1d1-dfbb-444b-a66b-4385f4c9646c\" class=\"blockgrid\"><tbody><tr><td title=\"Index: [0, 0]&#10;Color: (0, 0, 0)\" style=\"width: 20px; height: 20px;background-color: rgb(0, 0, 0);\"></td><td title=\"Index: [0, 1]&#10;Color: (255, 178, 34)\" style=\"width: 20px; height: 20px;background-color: rgb(255, 178, 34);\"></td><td title=\"Index: [0, 2]&#10;Color: (0, 0, 0)\" style=\"width: 20px; height: 20px;background-color: rgb(0, 0, 0);\"></td><td title=\"Index: [0, 3]&#10;Color: (90, 255, 255)\" style=\"width: 20px; height: 20px;background-color: rgb(90, 255, 255);\"></td><td title=\"Index: [0, 4]&#10;Color: (0, 0, 0)\" style=\"width: 20px; height: 20px;background-color: rgb(0, 0, 0);\"></td><td title=\"Index: [0, 5]&#10;Color: (255, 178, 34)\" style=\"width: 20px; height: 20px;background-color: rgb(255, 178, 34);\"></td><td title=\"Index: [0, 6]&#10;Color: (255, 178, 34)\" style=\"width: 20px; height: 20px;background-color: rgb(255, 178, 34);\"></td><td title=\"Index: [0, 7]&#10;Color: (90, 255, 255)\" style=\"width: 20px; height: 20px;background-color: rgb(90, 255, 255);\"></td><td title=\"Index: [0, 8]&#10;Color: (255, 178, 34)\" style=\"width: 20px; height: 20px;background-color: rgb(255, 178, 34);\"></td><td title=\"Index: [0, 9]&#10;Color: (90, 255, 255)\" style=\"width: 20px; height: 20px;background-color: rgb(90, 255, 255);\"></td></tr><tr><td title=\"Index: [1, 0]&#10;Color: (90, 255, 255)\" style=\"width: 20px; height: 20px;background-color: rgb(90, 255, 255);\"></td><td title=\"Index: [1, 1]&#10;Color: (255, 178, 34)\" style=\"width: 20px; height: 20px;background-color: rgb(255, 178, 34);\"></td><td title=\"Index: [1, 2]&#10;Color: (0, 0, 0)\" style=\"width: 20px; height: 20px;background-color: rgb(0, 0, 0);\"></td><td title=\"Index: [1, 3]&#10;Color: (0, 0, 0)\" style=\"width: 20px; height: 20px;background-color: rgb(0, 0, 0);\"></td><td title=\"Index: [1, 4]&#10;Color: (0, 0, 0)\" style=\"width: 20px; height: 20px;background-color: rgb(0, 0, 0);\"></td><td title=\"Index: [1, 5]&#10;Color: (0, 0, 0)\" style=\"width: 20px; height: 20px;background-color: rgb(0, 0, 0);\"></td><td title=\"Index: [1, 6]&#10;Color: (90, 255, 255)\" style=\"width: 20px; height: 20px;background-color: rgb(90, 255, 255);\"></td><td title=\"Index: [1, 7]&#10;Color: (0, 0, 0)\" style=\"width: 20px; height: 20px;background-color: rgb(0, 0, 0);\"></td><td title=\"Index: [1, 8]&#10;Color: (0, 0, 0)\" style=\"width: 20px; height: 20px;background-color: rgb(0, 0, 0);\"></td><td title=\"Index: [1, 9]&#10;Color: (0, 0, 0)\" style=\"width: 20px; height: 20px;background-color: rgb(0, 0, 0);\"></td></tr><tr><td title=\"Index: [2, 0]&#10;Color: (0, 0, 0)\" style=\"width: 20px; height: 20px;background-color: rgb(0, 0, 0);\"></td><td title=\"Index: [2, 1]&#10;Color: (90, 255, 255)\" style=\"width: 20px; height: 20px;background-color: rgb(90, 255, 255);\"></td><td title=\"Index: [2, 2]&#10;Color: (90, 255, 255)\" style=\"width: 20px; height: 20px;background-color: rgb(90, 255, 255);\"></td><td title=\"Index: [2, 3]&#10;Color: (90, 255, 255)\" style=\"width: 20px; height: 20px;background-color: rgb(90, 255, 255);\"></td><td title=\"Index: [2, 4]&#10;Color: (255, 178, 34)\" style=\"width: 20px; height: 20px;background-color: rgb(255, 178, 34);\"></td><td title=\"Index: [2, 5]&#10;Color: (255, 178, 34)\" style=\"width: 20px; height: 20px;background-color: rgb(255, 178, 34);\"></td><td title=\"Index: [2, 6]&#10;Color: (255, 178, 34)\" style=\"width: 20px; height: 20px;background-color: rgb(255, 178, 34);\"></td><td title=\"Index: [2, 7]&#10;Color: (255, 178, 34)\" style=\"width: 20px; height: 20px;background-color: rgb(255, 178, 34);\"></td><td title=\"Index: [2, 8]&#10;Color: (255, 178, 34)\" style=\"width: 20px; height: 20px;background-color: rgb(255, 178, 34);\"></td><td title=\"Index: [2, 9]&#10;Color: (255, 178, 34)\" style=\"width: 20px; height: 20px;background-color: rgb(255, 178, 34);\"></td></tr><tr><td title=\"Index: [3, 0]&#10;Color: (255, 178, 34)\" style=\"width: 20px; height: 20px;background-color: rgb(255, 178, 34);\"></td><td title=\"Index: [3, 1]&#10;Color: (0, 0, 0)\" style=\"width: 20px; height: 20px;background-color: rgb(0, 0, 0);\"></td><td title=\"Index: [3, 2]&#10;Color: (255, 178, 34)\" style=\"width: 20px; height: 20px;background-color: rgb(255, 178, 34);\"></td><td title=\"Index: [3, 3]&#10;Color: (90, 255, 255)\" style=\"width: 20px; height: 20px;background-color: rgb(90, 255, 255);\"></td><td title=\"Index: [3, 4]&#10;Color: (255, 178, 34)\" style=\"width: 20px; height: 20px;background-color: rgb(255, 178, 34);\"></td><td title=\"Index: [3, 5]&#10;Color: (90, 255, 255)\" style=\"width: 20px; height: 20px;background-color: rgb(90, 255, 255);\"></td><td title=\"Index: [3, 6]&#10;Color: (90, 255, 255)\" style=\"width: 20px; height: 20px;background-color: rgb(90, 255, 255);\"></td><td title=\"Index: [3, 7]&#10;Color: (255, 178, 34)\" style=\"width: 20px; height: 20px;background-color: rgb(255, 178, 34);\"></td><td title=\"Index: [3, 8]&#10;Color: (90, 255, 255)\" style=\"width: 20px; height: 20px;background-color: rgb(90, 255, 255);\"></td><td title=\"Index: [3, 9]&#10;Color: (0, 0, 0)\" style=\"width: 20px; height: 20px;background-color: rgb(0, 0, 0);\"></td></tr><tr><td title=\"Index: [4, 0]&#10;Color: (0, 0, 0)\" style=\"width: 20px; height: 20px;background-color: rgb(0, 0, 0);\"></td><td title=\"Index: [4, 1]&#10;Color: (255, 178, 34)\" style=\"width: 20px; height: 20px;background-color: rgb(255, 178, 34);\"></td><td title=\"Index: [4, 2]&#10;Color: (90, 255, 255)\" style=\"width: 20px; height: 20px;background-color: rgb(90, 255, 255);\"></td><td title=\"Index: [4, 3]&#10;Color: (90, 255, 255)\" style=\"width: 20px; height: 20px;background-color: rgb(90, 255, 255);\"></td><td title=\"Index: [4, 4]&#10;Color: (255, 178, 34)\" style=\"width: 20px; height: 20px;background-color: rgb(255, 178, 34);\"></td><td title=\"Index: [4, 5]&#10;Color: (0, 0, 0)\" style=\"width: 20px; height: 20px;background-color: rgb(0, 0, 0);\"></td><td title=\"Index: [4, 6]&#10;Color: (255, 178, 34)\" style=\"width: 20px; height: 20px;background-color: rgb(255, 178, 34);\"></td><td title=\"Index: [4, 7]&#10;Color: (0, 0, 0)\" style=\"width: 20px; height: 20px;background-color: rgb(0, 0, 0);\"></td><td title=\"Index: [4, 8]&#10;Color: (0, 0, 0)\" style=\"width: 20px; height: 20px;background-color: rgb(0, 0, 0);\"></td><td title=\"Index: [4, 9]&#10;Color: (255, 178, 34)\" style=\"width: 20px; height: 20px;background-color: rgb(255, 178, 34);\"></td></tr><tr><td title=\"Index: [5, 0]&#10;Color: (0, 0, 0)\" style=\"width: 20px; height: 20px;background-color: rgb(0, 0, 0);\"></td><td title=\"Index: [5, 1]&#10;Color: (90, 255, 255)\" style=\"width: 20px; height: 20px;background-color: rgb(90, 255, 255);\"></td><td title=\"Index: [5, 2]&#10;Color: (255, 178, 34)\" style=\"width: 20px; height: 20px;background-color: rgb(255, 178, 34);\"></td><td title=\"Index: [5, 3]&#10;Color: (0, 0, 0)\" style=\"width: 20px; height: 20px;background-color: rgb(0, 0, 0);\"></td><td title=\"Index: [5, 4]&#10;Color: (90, 255, 255)\" style=\"width: 20px; height: 20px;background-color: rgb(90, 255, 255);\"></td><td title=\"Index: [5, 5]&#10;Color: (90, 255, 255)\" style=\"width: 20px; height: 20px;background-color: rgb(90, 255, 255);\"></td><td title=\"Index: [5, 6]&#10;Color: (90, 255, 255)\" style=\"width: 20px; height: 20px;background-color: rgb(90, 255, 255);\"></td><td title=\"Index: [5, 7]&#10;Color: (90, 255, 255)\" style=\"width: 20px; height: 20px;background-color: rgb(90, 255, 255);\"></td><td title=\"Index: [5, 8]&#10;Color: (90, 255, 255)\" style=\"width: 20px; height: 20px;background-color: rgb(90, 255, 255);\"></td><td title=\"Index: [5, 9]&#10;Color: (255, 178, 34)\" style=\"width: 20px; height: 20px;background-color: rgb(255, 178, 34);\"></td></tr><tr><td title=\"Index: [6, 0]&#10;Color: (255, 178, 34)\" style=\"width: 20px; height: 20px;background-color: rgb(255, 178, 34);\"></td><td title=\"Index: [6, 1]&#10;Color: (255, 178, 34)\" style=\"width: 20px; height: 20px;background-color: rgb(255, 178, 34);\"></td><td title=\"Index: [6, 2]&#10;Color: (90, 255, 255)\" style=\"width: 20px; height: 20px;background-color: rgb(90, 255, 255);\"></td><td title=\"Index: [6, 3]&#10;Color: (255, 178, 34)\" style=\"width: 20px; height: 20px;background-color: rgb(255, 178, 34);\"></td><td title=\"Index: [6, 4]&#10;Color: (255, 178, 34)\" style=\"width: 20px; height: 20px;background-color: rgb(255, 178, 34);\"></td><td title=\"Index: [6, 5]&#10;Color: (255, 178, 34)\" style=\"width: 20px; height: 20px;background-color: rgb(255, 178, 34);\"></td><td title=\"Index: [6, 6]&#10;Color: (90, 255, 255)\" style=\"width: 20px; height: 20px;background-color: rgb(90, 255, 255);\"></td><td title=\"Index: [6, 7]&#10;Color: (0, 0, 0)\" style=\"width: 20px; height: 20px;background-color: rgb(0, 0, 0);\"></td><td title=\"Index: [6, 8]&#10;Color: (90, 255, 255)\" style=\"width: 20px; height: 20px;background-color: rgb(90, 255, 255);\"></td><td title=\"Index: [6, 9]&#10;Color: (0, 0, 0)\" style=\"width: 20px; height: 20px;background-color: rgb(0, 0, 0);\"></td></tr><tr><td title=\"Index: [7, 0]&#10;Color: (0, 0, 0)\" style=\"width: 20px; height: 20px;background-color: rgb(0, 0, 0);\"></td><td title=\"Index: [7, 1]&#10;Color: (255, 178, 34)\" style=\"width: 20px; height: 20px;background-color: rgb(255, 178, 34);\"></td><td title=\"Index: [7, 2]&#10;Color: (255, 178, 34)\" style=\"width: 20px; height: 20px;background-color: rgb(255, 178, 34);\"></td><td title=\"Index: [7, 3]&#10;Color: (255, 178, 34)\" style=\"width: 20px; height: 20px;background-color: rgb(255, 178, 34);\"></td><td title=\"Index: [7, 4]&#10;Color: (90, 255, 255)\" style=\"width: 20px; height: 20px;background-color: rgb(90, 255, 255);\"></td><td title=\"Index: [7, 5]&#10;Color: (255, 178, 34)\" style=\"width: 20px; height: 20px;background-color: rgb(255, 178, 34);\"></td><td title=\"Index: [7, 6]&#10;Color: (90, 255, 255)\" style=\"width: 20px; height: 20px;background-color: rgb(90, 255, 255);\"></td><td title=\"Index: [7, 7]&#10;Color: (255, 178, 34)\" style=\"width: 20px; height: 20px;background-color: rgb(255, 178, 34);\"></td><td title=\"Index: [7, 8]&#10;Color: (0, 0, 0)\" style=\"width: 20px; height: 20px;background-color: rgb(0, 0, 0);\"></td><td title=\"Index: [7, 9]&#10;Color: (90, 255, 255)\" style=\"width: 20px; height: 20px;background-color: rgb(90, 255, 255);\"></td></tr><tr><td title=\"Index: [8, 0]&#10;Color: (255, 178, 34)\" style=\"width: 20px; height: 20px;background-color: rgb(255, 178, 34);\"></td><td title=\"Index: [8, 1]&#10;Color: (255, 178, 34)\" style=\"width: 20px; height: 20px;background-color: rgb(255, 178, 34);\"></td><td title=\"Index: [8, 2]&#10;Color: (255, 178, 34)\" style=\"width: 20px; height: 20px;background-color: rgb(255, 178, 34);\"></td><td title=\"Index: [8, 3]&#10;Color: (0, 0, 0)\" style=\"width: 20px; height: 20px;background-color: rgb(0, 0, 0);\"></td><td title=\"Index: [8, 4]&#10;Color: (255, 178, 34)\" style=\"width: 20px; height: 20px;background-color: rgb(255, 178, 34);\"></td><td title=\"Index: [8, 5]&#10;Color: (0, 0, 0)\" style=\"width: 20px; height: 20px;background-color: rgb(0, 0, 0);\"></td><td title=\"Index: [8, 6]&#10;Color: (0, 0, 0)\" style=\"width: 20px; height: 20px;background-color: rgb(0, 0, 0);\"></td><td title=\"Index: [8, 7]&#10;Color: (0, 0, 0)\" style=\"width: 20px; height: 20px;background-color: rgb(0, 0, 0);\"></td><td title=\"Index: [8, 8]&#10;Color: (90, 255, 255)\" style=\"width: 20px; height: 20px;background-color: rgb(90, 255, 255);\"></td><td title=\"Index: [8, 9]&#10;Color: (255, 178, 34)\" style=\"width: 20px; height: 20px;background-color: rgb(255, 178, 34);\"></td></tr><tr><td title=\"Index: [9, 0]&#10;Color: (0, 0, 0)\" style=\"width: 20px; height: 20px;background-color: rgb(0, 0, 0);\"></td><td title=\"Index: [9, 1]&#10;Color: (90, 255, 255)\" style=\"width: 20px; height: 20px;background-color: rgb(90, 255, 255);\"></td><td title=\"Index: [9, 2]&#10;Color: (255, 178, 34)\" style=\"width: 20px; height: 20px;background-color: rgb(255, 178, 34);\"></td><td title=\"Index: [9, 3]&#10;Color: (0, 0, 0)\" style=\"width: 20px; height: 20px;background-color: rgb(0, 0, 0);\"></td><td title=\"Index: [9, 4]&#10;Color: (255, 178, 34)\" style=\"width: 20px; height: 20px;background-color: rgb(255, 178, 34);\"></td><td title=\"Index: [9, 5]&#10;Color: (0, 0, 0)\" style=\"width: 20px; height: 20px;background-color: rgb(0, 0, 0);\"></td><td title=\"Index: [9, 6]&#10;Color: (0, 0, 0)\" style=\"width: 20px; height: 20px;background-color: rgb(0, 0, 0);\"></td><td title=\"Index: [9, 7]&#10;Color: (255, 178, 34)\" style=\"width: 20px; height: 20px;background-color: rgb(255, 178, 34);\"></td><td title=\"Index: [9, 8]&#10;Color: (90, 255, 255)\" style=\"width: 20px; height: 20px;background-color: rgb(90, 255, 255);\"></td><td title=\"Index: [9, 9]&#10;Color: (255, 178, 34)\" style=\"width: 20px; height: 20px;background-color: rgb(255, 178, 34);\"></td></tr></tbody></table>"
      ],
      "text/plain": [
       "<ipythonblocks.ipythonblocks.BlockGrid at 0x7f4625fc6e10>"
      ]
     },
     "metadata": {},
     "output_type": "display_data"
    }
   ],
   "source": [
    "def make_grid():\n",
    "    x = 0\n",
    "    for i in grid1:\n",
    "        if grid2[x]==1:\n",
    "            i.set_colors(300, 178, 34)\n",
    "        elif grid2[x]==2:\n",
    "            i.set_colors(90, 300, 420)\n",
    "        x+=1\n",
    "    display(grid1)\n",
    "make_grid()"
   ]
  },
  {
   "cell_type": "code",
   "execution_count": 8,
   "metadata": {
    "collapsed": true
   },
   "outputs": [],
   "source": [
    "def satisfaction_percent():\n",
    "    same_c1 = 0\n",
    "    same_c2 = 0\n",
    "    same_c3 = 0\n",
    "    same_c4 = 0\n",
    "    same_col_1 = 0\n",
    "    same_col_2 = 0\n",
    "    same_row_1 = 0\n",
    "    same_row_2 = 0\n",
    "    sat_col_1=[] \n",
    "    sat_col_2=[] \n",
    "    sat_row_1=[] \n",
    "    sat_row_2=[] \n",
    "    sat_1=[] \n",
    "    same = 0\n",
    "    row = 0\n",
    "    col = 0\n",
    "    i_5 = 0\n",
    "    i_6 = 0\n",
    "    i_7 = 0\n",
    "    i_8 = 0\n",
    "    i_9 = 0\n",
    "    for n in grid:\n",
    "        if row==0 and col==0:\n",
    "            if grid[0,0]==0:\n",
    "                same_c1+=0\n",
    "            else:\n",
    "                if grid[0,0]==grid[1,0]:\n",
    "                    same_c1+=1\n",
    "                if grid[0,0]==grid[0,1]:\n",
    "                    same_c1+=1\n",
    "                if grid[0,0]==grid[1,1]:\n",
    "                    same_c1+=1\n",
    "            satisfaction_c1 = same_c1/3\n",
    "            print ('satisfaction_c1', satisfaction_c1)\n",
    "        elif row==0 and col==y:\n",
    "            if grid[0,y]==0:\n",
    "                same_c2+=0\n",
    "            else:\n",
    "                if grid[0,y]==grid[0,y-1]:\n",
    "                    same_c2+=1\n",
    "                if grid[0,y]==grid[1,y-1]:\n",
    "                    same_c2+=1\n",
    "                if grid[0,y]==grid[1,y]:\n",
    "                    same_c2+=1\n",
    "            satisfaction_c2 = same_c2/3\n",
    "            print ('satisfaction_c2',satisfaction_c2)\n",
    "        elif row==y and col==0:\n",
    "            if grid[y,0]==0:\n",
    "                same_c3+=0\n",
    "            else:\n",
    "                if grid[y,0]==grid[y-1,0]:\n",
    "                    same_c3+=1\n",
    "                if grid[y,0]==grid[y-1,1]:\n",
    "                    same_c3+=1\n",
    "                if grid[y,0]==grid[y,1]:\n",
    "                    same_c3+=1\n",
    "            satisfaction_c3 = same_c3/3\n",
    "            print ('satisfaction_c3',satisfaction_c3)\n",
    "        elif row==y and col==y:\n",
    "            if grid[y,y]==0:\n",
    "                same_c4+=0\n",
    "            else:\n",
    "                if grid[y,y]==grid[y-1,y]:\n",
    "                    same_c4+=1\n",
    "                if grid[y,y]==grid[y,y-1]:\n",
    "                    same_c4+=1\n",
    "                if grid[y,y]==grid[y-1,y-1]:\n",
    "                    same_c4+=1\n",
    "            satisfaction_c4 = same_c4/3\n",
    "            print ('satisfaction_c4', satisfaction_c4)\n",
    "        elif row==0 and col!=(0 or y):\n",
    "            i_5+=1\n",
    "            if grid[row,col]==0:\n",
    "                same_col_1+=0\n",
    "            else:\n",
    "                if grid[row,col]==grid[row,col-1]:\n",
    "                    same_col_1+=1\n",
    "                if grid[row,col]==grid[row,col+1]:\n",
    "                    same_col_1+=1\n",
    "                if grid[row,col]==grid[row+1,col-1]:\n",
    "                    same_col_1+=1\n",
    "                if grid[row,col]==grid[row+1,col]:\n",
    "                    same_col_1+=1\n",
    "                if grid[row,col]==grid[row+1,col+1]:\n",
    "                    same_col_1+=1\n",
    "            satisfaction_col_1 = same_col_1/5\n",
    "            sat_col_1.append(satisfaction_col_1)\n",
    "            true_satisfaction_col_1 = np.hstack(sat_col_1) \n",
    "            if i_5>y-1:\n",
    "                sat_col_1 = true_satisfaction_col_1\n",
    "                print ('sat_col_1',sat_col_1)\n",
    "\n",
    "        elif row==y and col!=(0 or y):\n",
    "            i_6+=1\n",
    "            if grid[row,col]==0:\n",
    "                same_col_2+=0\n",
    "            else:\n",
    "                if grid[row,col]==grid[row,col-1]:\n",
    "                    same_col_2+=1\n",
    "                if grid[row,col]==grid[row,col+1]:\n",
    "                    same_col_2+=1\n",
    "                if grid[row,col]==grid[row-1,col-1]:\n",
    "                    same_col_2+=1\n",
    "                if grid[row,col]==grid[row-1,col]:\n",
    "                    same_col_2+=1\n",
    "                if grid[row,col]==grid[row-1,col+1]:\n",
    "                    same_col_2+=1\n",
    "            satisfaction_col_2 = same_col_2/5\n",
    "            sat_col_2.append(satisfaction_col_2)\n",
    "            true_satisfaction_col_2 = np.hstack(sat_col_2) \n",
    "            if i_6>y-1:\n",
    "                sat_col_2 = true_satisfaction_col_2\n",
    "                print ('sat_col_2',sat_col_2)\n",
    "        elif row!=(0 or y) and col==0:\n",
    "            i_7+=1\n",
    "            if grid[row,col]==0:\n",
    "                same_row_1+=0\n",
    "            else:\n",
    "                if grid[row,col]==grid[row-1,col]:\n",
    "                    same_row_1+=1\n",
    "                if grid[row,col]==grid[row+1,col]:\n",
    "                    same_row_1+=1\n",
    "                if grid[row,col]==grid[row-1,col+1]:\n",
    "                    same_row_1+=1\n",
    "                if grid[row,n]==grid[row,col+1]:\n",
    "                    same_row_1+=1\n",
    "                if grid[row,col]==grid[row+1,col+1]:\n",
    "                    same_row_1+=1\n",
    "            satisfaction_row_1 = same_row_1/5\n",
    "            sat_row_1.append(satisfaction_row_1)\n",
    "            true_satisfaction_row_1 = np.hstack(sat_row_1) \n",
    "            if i_7>y-1:\n",
    "                sat_row_1 = true_satisfaction_row_1\n",
    "                print ('sat_row_1',sat_row_1)\n",
    "        elif row!=(0 or y) and col==y:\n",
    "            i_8+=1\n",
    "            if grid[row,col]==0:\n",
    "                same_row_2+=0\n",
    "            else:\n",
    "                if grid[row,col]==grid[row-1,col]:\n",
    "                    same_row_2+=1\n",
    "                if grid[row,col]==grid[row+1,col]:\n",
    "                    same_row_2+=1\n",
    "                if grid[row,col]==grid[row-1,col-1]:\n",
    "                    same_row_2+=1\n",
    "                if grid[row,col]==grid[row,col-1]:\n",
    "                    same_row_2+=1\n",
    "                if grid[row,col]==grid[row+1,col-1]:\n",
    "                    same_row_2+=1\n",
    "            satisfaction_row_2 = same_row_2/5\n",
    "            sat_row_2.append(satisfaction_row_2)\n",
    "            true_satisfaction_row_2 = np.hstack(sat_row_2) \n",
    "            if i_8>y-1:\n",
    "                sat_row_2 = true_satisfaction_row_2\n",
    "                print ('sat_row_2',sat_row_2)\n",
    "        else:\n",
    "            i_9+=1\n",
    "            if grid[row,col]==0:\n",
    "                same+=0\n",
    "            else:\n",
    "                if grid[row,col]==grid[row-1,col]:\n",
    "                    same+=1\n",
    "                if grid[row,col]==grid[row,col-1]:\n",
    "                    same+=1\n",
    "                if grid[row,col]==grid[row-1,col-1]:\n",
    "                    same+=1\n",
    "                if grid[row,col]==grid[row+1,col]:\n",
    "                    same+=1\n",
    "                if grid[row,col]==grid[row,col+1]:\n",
    "                    same+=1\n",
    "                if grid[row,col]==grid[row+1,col+1]:\n",
    "                    same+=1\n",
    "                if grid[row,col]==grid[row-1,col+1]:\n",
    "                    same+=1\n",
    "                if grid[row,col]==grid[row+1,col-1]:\n",
    "                    same+=1\n",
    "            satisfaction = same/8\n",
    "            sat_1.append(satisfaction)\n",
    "            true_satisfaction_1 = np.hstack(sat_1) \n",
    "            if i_9>y-2:\n",
    "                sat_1 = true_satisfaction_1\n",
    "                print ('sat_1',sat_1)\n",
    "        col+=1\n",
    "        if col>=10:\n",
    "            col = col - 10\n",
    "            row+=1\n",
    "    \n",
    "    sat_c_1_1 = []\n",
    "    sat_c_2_1 = []\n",
    "    sat_c_3_1 = []\n",
    "    sat_c_4_1 = []\n",
    "    sat_col_1_1 = []\n",
    "    sat_col_2_1 = []\n",
    "    sat_row_1_1 = []\n",
    "    sat_row_2_1 = []\n",
    "    sat_1_1 = []\n",
    "    m_1=0\n",
    "    m_2=0\n",
    "    m_3=0\n",
    "    m_4=0\n",
    "    m_5=0\n",
    "    m_6=0\n",
    "    m_7=0\n",
    "    m_8=0\n",
    "    m_9=0\n",
    "    \n",
    "    for n in sat_col_1:\n",
    "        if m_5==0:\n",
    "            new_value_5 = sat_col_1[0]\n",
    "            sat_col_1_1.append(new_value_5)\n",
    "            s_col_1 = np.hstack(sat_col_1_1)\n",
    "        else:\n",
    "            new_value_5 = sat_col_1[m_5] - sat_col_1[m_5-1]\n",
    "            sat_col_1_1.append(new_value_5)\n",
    "        m_5+=1     \n",
    "    \n",
    "    for n in sat_col_2:\n",
    "        if m_6==0:\n",
    "            new_value_6 = sat_col_2[0]\n",
    "            sat_col_2_1.append(new_value_6)\n",
    "            s_col_2 = np.hstack(sat_col_2_1)\n",
    "            print (new_value_6)\n",
    "        else:\n",
    "            new_value_6 = sat_col_2[m_6] - sat_col_2[m_6-1]\n",
    "            sat_col_2_1.append(new_value_6)\n",
    "        m_6+=1 \n",
    "        \n",
    "    for n in sat_row_1:\n",
    "        if m_7==0:\n",
    "            new_value_7 = sat_row_1[0]\n",
    "            sat_row_1_1.append(new_value_7)\n",
    "            sat_row_1 = np.hstack(sat_row_1_1)\n",
    "        else:\n",
    "            new_value_7 = sat_row_1[m_7] - sat_row_1[m_7-1]\n",
    "            sat_row_1_1.append(new_value_7)\n",
    "        m_7+=1 \n",
    "    for n in sat_row_2:\n",
    "        if m_8==0:\n",
    "            new_value_8 = sat_row_2[0]\n",
    "            sat_row_2_1.append(new_value_8)\n",
    "            s_row_2 = np.hstack(sat_row_2_1)\n",
    "        else:\n",
    "            new_value_8 = sat_row_2[m_8] - sat_row_2[m_8-1]\n",
    "            sat_row_2_1.append(new_value_8)\n",
    "        m_8+=1 \n",
    "        \n",
    "    for n in sat_1:\n",
    "        if m_9==0:\n",
    "            new_value_9 = sat_1[0]\n",
    "            sat_1_1.append(new_value_9)\n",
    "            sat_1 = np.hstack(sat_1_1)\n",
    "        else:\n",
    "            new_value_9 = sat_1[m_9] - sat_1[m_9-1]\n",
    "            sat_1_1.append(new_value_9)\n",
    "        m_9+=1 \n",
    "        \n",
    "        \n",
    "    s_col_1 = np.hstack(sat_col_1_1)\n",
    "    #s_col_2 = np.hstack(sat_col_2_1)\n",
    "    #s_row_1 = np.hstack(sat_row_1_1)\n",
    "    #s_row_2 = np.hstack(sat_row_2_1)\n",
    "    #s_1 = np.hstack(sat_1_1)\n",
    "\n",
    "    print ('s_col_1',s_col_1)\n",
    "    #print ('s_col_2',s_col_2)\n",
    "    #print ('s_row_1',s_row_1)\n",
    "    #print ('s_row_2',s_row_2)\n",
    "    #print ('s_1',s_1)\n",
    "    return (satisfaction_c1,satisfaction_c2,satisfaction_c3,satisfaction_c4,s_col_1,s_col_2,s_row_1,s_row_2,s_1)"
   ]
  },
  {
   "cell_type": "code",
   "execution_count": 10,
   "metadata": {
    "collapsed": false
   },
   "outputs": [
    {
     "name": "stdout",
     "output_type": "stream",
     "text": [
      "satisfaction_c1 0.0\n",
      "satisfaction_c2 0.0\n",
      "s_col_1 [ 0.2  0.   0.   0.   0.2  0.2  0.2  0. ]\n"
     ]
    },
    {
     "ename": "UnboundLocalError",
     "evalue": "local variable 'satisfaction_c3' referenced before assignment",
     "output_type": "error",
     "traceback": [
      "\u001b[1;31m---------------------------------------------------------------------------\u001b[0m",
      "\u001b[1;31mUnboundLocalError\u001b[0m                         Traceback (most recent call last)",
      "\u001b[1;32m<ipython-input-10-40dabf97854e>\u001b[0m in \u001b[0;36m<module>\u001b[1;34m()\u001b[0m\n\u001b[1;32m----> 1\u001b[1;33m \u001b[0msatisfaction_percent\u001b[0m\u001b[1;33m(\u001b[0m\u001b[1;33m)\u001b[0m\u001b[1;33m\u001b[0m\u001b[0m\n\u001b[0m",
      "\u001b[1;32m<ipython-input-8-9b675a9ad58f>\u001b[0m in \u001b[0;36msatisfaction_percent\u001b[1;34m()\u001b[0m\n\u001b[0;32m    268\u001b[0m     \u001b[1;31m#print ('s_row_2',s_row_2)\u001b[0m\u001b[1;33m\u001b[0m\u001b[1;33m\u001b[0m\u001b[0m\n\u001b[0;32m    269\u001b[0m     \u001b[1;31m#print ('s_1',s_1)\u001b[0m\u001b[1;33m\u001b[0m\u001b[1;33m\u001b[0m\u001b[0m\n\u001b[1;32m--> 270\u001b[1;33m     \u001b[1;32mreturn\u001b[0m \u001b[1;33m(\u001b[0m\u001b[0msatisfaction_c1\u001b[0m\u001b[1;33m,\u001b[0m\u001b[0msatisfaction_c2\u001b[0m\u001b[1;33m,\u001b[0m\u001b[0msatisfaction_c3\u001b[0m\u001b[1;33m,\u001b[0m\u001b[0msatisfaction_c4\u001b[0m\u001b[1;33m,\u001b[0m\u001b[0ms_col_1\u001b[0m\u001b[1;33m,\u001b[0m\u001b[0ms_col_2\u001b[0m\u001b[1;33m,\u001b[0m\u001b[0ms_row_1\u001b[0m\u001b[1;33m,\u001b[0m\u001b[0ms_row_2\u001b[0m\u001b[1;33m,\u001b[0m\u001b[0ms_1\u001b[0m\u001b[1;33m)\u001b[0m\u001b[1;33m\u001b[0m\u001b[0m\n\u001b[0m",
      "\u001b[1;31mUnboundLocalError\u001b[0m: local variable 'satisfaction_c3' referenced before assignment"
     ]
    }
   ],
   "source": [
    "satisfaction_percent()"
   ]
  },
  {
   "cell_type": "code",
   "execution_count": null,
   "metadata": {
    "collapsed": true
   },
   "outputs": [],
   "source": []
  },
  {
   "cell_type": "code",
   "execution_count": null,
   "metadata": {
    "collapsed": true
   },
   "outputs": [],
   "source": []
  },
  {
   "cell_type": "code",
   "execution_count": null,
   "metadata": {
    "collapsed": true
   },
   "outputs": [],
   "source": []
  },
  {
   "cell_type": "code",
   "execution_count": null,
   "metadata": {
    "collapsed": true
   },
   "outputs": [],
   "source": []
  },
  {
   "cell_type": "code",
   "execution_count": null,
   "metadata": {
    "collapsed": true
   },
   "outputs": [],
   "source": []
  },
  {
   "cell_type": "code",
   "execution_count": null,
   "metadata": {
    "collapsed": true
   },
   "outputs": [],
   "source": []
  },
  {
   "cell_type": "code",
   "execution_count": null,
   "metadata": {
    "collapsed": true
   },
   "outputs": [],
   "source": [
    "def make_grid(y):\n",
    "    grid = np.random.choice([0,1,2],size=(y,y),p = [.5,.25,.25])\n",
    "    grid2 = np.hstack(grid)\n",
    "    print (grid2)\n",
    "    grid1 = bg(y,y)\n",
    "    x = 0\n",
    "    for i in grid1:\n",
    "        if grid2[x]==1:\n",
    "            i.set_colors(300, 178, 34)\n",
    "        elif grid2[x]==2:\n",
    "            i.set_colors(90, 300, 420)\n",
    "        x+=1\n",
    "        print (y)\n",
    "    return grid1"
   ]
  },
  {
   "cell_type": "code",
   "execution_count": null,
   "metadata": {
    "collapsed": true
   },
   "outputs": [],
   "source": [
    "interact(make_grid, y = )"
   ]
  },
  {
   "cell_type": "code",
   "execution_count": 2,
   "metadata": {
    "collapsed": false
   },
   "outputs": [
    {
     "data": {
      "text/html": [
       "<style type=\"text/css\">table.blockgrid {border: none;} .blockgrid tr {border: none;} .blockgrid td {padding: 0px;} #blocks785156e2-2381-4b28-b391-ecaa6948f6be td {border: 1px solid white;}</style><table id=\"blocks785156e2-2381-4b28-b391-ecaa6948f6be\" class=\"blockgrid\"><tbody><tr><td title=\"Index: [0, 0]&#10;Color: (1, 1, 1)\" style=\"width: 20px; height: 20px;background-color: rgb(1, 1, 1);\"></td><td title=\"Index: [0, 1]&#10;Color: (1, 1, 1)\" style=\"width: 20px; height: 20px;background-color: rgb(1, 1, 1);\"></td><td title=\"Index: [0, 2]&#10;Color: (1, 1, 1)\" style=\"width: 20px; height: 20px;background-color: rgb(1, 1, 1);\"></td><td title=\"Index: [0, 3]&#10;Color: (1, 1, 1)\" style=\"width: 20px; height: 20px;background-color: rgb(1, 1, 1);\"></td><td title=\"Index: [0, 4]&#10;Color: (1, 1, 1)\" style=\"width: 20px; height: 20px;background-color: rgb(1, 1, 1);\"></td><td title=\"Index: [0, 5]&#10;Color: (1, 1, 1)\" style=\"width: 20px; height: 20px;background-color: rgb(1, 1, 1);\"></td><td title=\"Index: [0, 6]&#10;Color: (1, 1, 1)\" style=\"width: 20px; height: 20px;background-color: rgb(1, 1, 1);\"></td><td title=\"Index: [0, 7]&#10;Color: (1, 1, 1)\" style=\"width: 20px; height: 20px;background-color: rgb(1, 1, 1);\"></td><td title=\"Index: [0, 8]&#10;Color: (1, 1, 1)\" style=\"width: 20px; height: 20px;background-color: rgb(1, 1, 1);\"></td><td title=\"Index: [0, 9]&#10;Color: (1, 1, 1)\" style=\"width: 20px; height: 20px;background-color: rgb(1, 1, 1);\"></td></tr><tr><td title=\"Index: [1, 0]&#10;Color: (1, 1, 1)\" style=\"width: 20px; height: 20px;background-color: rgb(1, 1, 1);\"></td><td title=\"Index: [1, 1]&#10;Color: (1, 1, 1)\" style=\"width: 20px; height: 20px;background-color: rgb(1, 1, 1);\"></td><td title=\"Index: [1, 2]&#10;Color: (1, 1, 1)\" style=\"width: 20px; height: 20px;background-color: rgb(1, 1, 1);\"></td><td title=\"Index: [1, 3]&#10;Color: (1, 1, 1)\" style=\"width: 20px; height: 20px;background-color: rgb(1, 1, 1);\"></td><td title=\"Index: [1, 4]&#10;Color: (1, 1, 1)\" style=\"width: 20px; height: 20px;background-color: rgb(1, 1, 1);\"></td><td title=\"Index: [1, 5]&#10;Color: (1, 1, 1)\" style=\"width: 20px; height: 20px;background-color: rgb(1, 1, 1);\"></td><td title=\"Index: [1, 6]&#10;Color: (1, 1, 1)\" style=\"width: 20px; height: 20px;background-color: rgb(1, 1, 1);\"></td><td title=\"Index: [1, 7]&#10;Color: (1, 1, 1)\" style=\"width: 20px; height: 20px;background-color: rgb(1, 1, 1);\"></td><td title=\"Index: [1, 8]&#10;Color: (1, 1, 1)\" style=\"width: 20px; height: 20px;background-color: rgb(1, 1, 1);\"></td><td title=\"Index: [1, 9]&#10;Color: (1, 1, 1)\" style=\"width: 20px; height: 20px;background-color: rgb(1, 1, 1);\"></td></tr><tr><td title=\"Index: [2, 0]&#10;Color: (1, 1, 1)\" style=\"width: 20px; height: 20px;background-color: rgb(1, 1, 1);\"></td><td title=\"Index: [2, 1]&#10;Color: (1, 1, 1)\" style=\"width: 20px; height: 20px;background-color: rgb(1, 1, 1);\"></td><td title=\"Index: [2, 2]&#10;Color: (1, 1, 1)\" style=\"width: 20px; height: 20px;background-color: rgb(1, 1, 1);\"></td><td title=\"Index: [2, 3]&#10;Color: (1, 1, 1)\" style=\"width: 20px; height: 20px;background-color: rgb(1, 1, 1);\"></td><td title=\"Index: [2, 4]&#10;Color: (1, 1, 1)\" style=\"width: 20px; height: 20px;background-color: rgb(1, 1, 1);\"></td><td title=\"Index: [2, 5]&#10;Color: (1, 1, 1)\" style=\"width: 20px; height: 20px;background-color: rgb(1, 1, 1);\"></td><td title=\"Index: [2, 6]&#10;Color: (1, 1, 1)\" style=\"width: 20px; height: 20px;background-color: rgb(1, 1, 1);\"></td><td title=\"Index: [2, 7]&#10;Color: (1, 1, 1)\" style=\"width: 20px; height: 20px;background-color: rgb(1, 1, 1);\"></td><td title=\"Index: [2, 8]&#10;Color: (1, 1, 1)\" style=\"width: 20px; height: 20px;background-color: rgb(1, 1, 1);\"></td><td title=\"Index: [2, 9]&#10;Color: (1, 1, 1)\" style=\"width: 20px; height: 20px;background-color: rgb(1, 1, 1);\"></td></tr><tr><td title=\"Index: [3, 0]&#10;Color: (1, 1, 1)\" style=\"width: 20px; height: 20px;background-color: rgb(1, 1, 1);\"></td><td title=\"Index: [3, 1]&#10;Color: (1, 1, 1)\" style=\"width: 20px; height: 20px;background-color: rgb(1, 1, 1);\"></td><td title=\"Index: [3, 2]&#10;Color: (1, 1, 1)\" style=\"width: 20px; height: 20px;background-color: rgb(1, 1, 1);\"></td><td title=\"Index: [3, 3]&#10;Color: (1, 1, 1)\" style=\"width: 20px; height: 20px;background-color: rgb(1, 1, 1);\"></td><td title=\"Index: [3, 4]&#10;Color: (1, 1, 1)\" style=\"width: 20px; height: 20px;background-color: rgb(1, 1, 1);\"></td><td title=\"Index: [3, 5]&#10;Color: (1, 1, 1)\" style=\"width: 20px; height: 20px;background-color: rgb(1, 1, 1);\"></td><td title=\"Index: [3, 6]&#10;Color: (1, 1, 1)\" style=\"width: 20px; height: 20px;background-color: rgb(1, 1, 1);\"></td><td title=\"Index: [3, 7]&#10;Color: (1, 1, 1)\" style=\"width: 20px; height: 20px;background-color: rgb(1, 1, 1);\"></td><td title=\"Index: [3, 8]&#10;Color: (1, 1, 1)\" style=\"width: 20px; height: 20px;background-color: rgb(1, 1, 1);\"></td><td title=\"Index: [3, 9]&#10;Color: (1, 1, 1)\" style=\"width: 20px; height: 20px;background-color: rgb(1, 1, 1);\"></td></tr><tr><td title=\"Index: [4, 0]&#10;Color: (1, 1, 1)\" style=\"width: 20px; height: 20px;background-color: rgb(1, 1, 1);\"></td><td title=\"Index: [4, 1]&#10;Color: (1, 1, 1)\" style=\"width: 20px; height: 20px;background-color: rgb(1, 1, 1);\"></td><td title=\"Index: [4, 2]&#10;Color: (1, 1, 1)\" style=\"width: 20px; height: 20px;background-color: rgb(1, 1, 1);\"></td><td title=\"Index: [4, 3]&#10;Color: (1, 1, 1)\" style=\"width: 20px; height: 20px;background-color: rgb(1, 1, 1);\"></td><td title=\"Index: [4, 4]&#10;Color: (1, 1, 1)\" style=\"width: 20px; height: 20px;background-color: rgb(1, 1, 1);\"></td><td title=\"Index: [4, 5]&#10;Color: (1, 1, 1)\" style=\"width: 20px; height: 20px;background-color: rgb(1, 1, 1);\"></td><td title=\"Index: [4, 6]&#10;Color: (1, 1, 1)\" style=\"width: 20px; height: 20px;background-color: rgb(1, 1, 1);\"></td><td title=\"Index: [4, 7]&#10;Color: (1, 1, 1)\" style=\"width: 20px; height: 20px;background-color: rgb(1, 1, 1);\"></td><td title=\"Index: [4, 8]&#10;Color: (1, 1, 1)\" style=\"width: 20px; height: 20px;background-color: rgb(1, 1, 1);\"></td><td title=\"Index: [4, 9]&#10;Color: (1, 1, 1)\" style=\"width: 20px; height: 20px;background-color: rgb(1, 1, 1);\"></td></tr><tr><td title=\"Index: [5, 0]&#10;Color: (1, 1, 1)\" style=\"width: 20px; height: 20px;background-color: rgb(1, 1, 1);\"></td><td title=\"Index: [5, 1]&#10;Color: (1, 1, 1)\" style=\"width: 20px; height: 20px;background-color: rgb(1, 1, 1);\"></td><td title=\"Index: [5, 2]&#10;Color: (1, 1, 1)\" style=\"width: 20px; height: 20px;background-color: rgb(1, 1, 1);\"></td><td title=\"Index: [5, 3]&#10;Color: (1, 1, 1)\" style=\"width: 20px; height: 20px;background-color: rgb(1, 1, 1);\"></td><td title=\"Index: [5, 4]&#10;Color: (1, 1, 1)\" style=\"width: 20px; height: 20px;background-color: rgb(1, 1, 1);\"></td><td title=\"Index: [5, 5]&#10;Color: (1, 1, 1)\" style=\"width: 20px; height: 20px;background-color: rgb(1, 1, 1);\"></td><td title=\"Index: [5, 6]&#10;Color: (1, 1, 1)\" style=\"width: 20px; height: 20px;background-color: rgb(1, 1, 1);\"></td><td title=\"Index: [5, 7]&#10;Color: (1, 1, 1)\" style=\"width: 20px; height: 20px;background-color: rgb(1, 1, 1);\"></td><td title=\"Index: [5, 8]&#10;Color: (1, 1, 1)\" style=\"width: 20px; height: 20px;background-color: rgb(1, 1, 1);\"></td><td title=\"Index: [5, 9]&#10;Color: (1, 1, 1)\" style=\"width: 20px; height: 20px;background-color: rgb(1, 1, 1);\"></td></tr><tr><td title=\"Index: [6, 0]&#10;Color: (1, 1, 1)\" style=\"width: 20px; height: 20px;background-color: rgb(1, 1, 1);\"></td><td title=\"Index: [6, 1]&#10;Color: (1, 1, 1)\" style=\"width: 20px; height: 20px;background-color: rgb(1, 1, 1);\"></td><td title=\"Index: [6, 2]&#10;Color: (1, 1, 1)\" style=\"width: 20px; height: 20px;background-color: rgb(1, 1, 1);\"></td><td title=\"Index: [6, 3]&#10;Color: (1, 1, 1)\" style=\"width: 20px; height: 20px;background-color: rgb(1, 1, 1);\"></td><td title=\"Index: [6, 4]&#10;Color: (1, 1, 1)\" style=\"width: 20px; height: 20px;background-color: rgb(1, 1, 1);\"></td><td title=\"Index: [6, 5]&#10;Color: (1, 1, 1)\" style=\"width: 20px; height: 20px;background-color: rgb(1, 1, 1);\"></td><td title=\"Index: [6, 6]&#10;Color: (1, 1, 1)\" style=\"width: 20px; height: 20px;background-color: rgb(1, 1, 1);\"></td><td title=\"Index: [6, 7]&#10;Color: (1, 1, 1)\" style=\"width: 20px; height: 20px;background-color: rgb(1, 1, 1);\"></td><td title=\"Index: [6, 8]&#10;Color: (1, 1, 1)\" style=\"width: 20px; height: 20px;background-color: rgb(1, 1, 1);\"></td><td title=\"Index: [6, 9]&#10;Color: (1, 1, 1)\" style=\"width: 20px; height: 20px;background-color: rgb(1, 1, 1);\"></td></tr><tr><td title=\"Index: [7, 0]&#10;Color: (1, 1, 1)\" style=\"width: 20px; height: 20px;background-color: rgb(1, 1, 1);\"></td><td title=\"Index: [7, 1]&#10;Color: (1, 1, 1)\" style=\"width: 20px; height: 20px;background-color: rgb(1, 1, 1);\"></td><td title=\"Index: [7, 2]&#10;Color: (1, 1, 1)\" style=\"width: 20px; height: 20px;background-color: rgb(1, 1, 1);\"></td><td title=\"Index: [7, 3]&#10;Color: (1, 1, 1)\" style=\"width: 20px; height: 20px;background-color: rgb(1, 1, 1);\"></td><td title=\"Index: [7, 4]&#10;Color: (1, 1, 1)\" style=\"width: 20px; height: 20px;background-color: rgb(1, 1, 1);\"></td><td title=\"Index: [7, 5]&#10;Color: (1, 1, 1)\" style=\"width: 20px; height: 20px;background-color: rgb(1, 1, 1);\"></td><td title=\"Index: [7, 6]&#10;Color: (1, 1, 1)\" style=\"width: 20px; height: 20px;background-color: rgb(1, 1, 1);\"></td><td title=\"Index: [7, 7]&#10;Color: (1, 1, 1)\" style=\"width: 20px; height: 20px;background-color: rgb(1, 1, 1);\"></td><td title=\"Index: [7, 8]&#10;Color: (1, 1, 1)\" style=\"width: 20px; height: 20px;background-color: rgb(1, 1, 1);\"></td><td title=\"Index: [7, 9]&#10;Color: (1, 1, 1)\" style=\"width: 20px; height: 20px;background-color: rgb(1, 1, 1);\"></td></tr><tr><td title=\"Index: [8, 0]&#10;Color: (1, 1, 1)\" style=\"width: 20px; height: 20px;background-color: rgb(1, 1, 1);\"></td><td title=\"Index: [8, 1]&#10;Color: (1, 1, 1)\" style=\"width: 20px; height: 20px;background-color: rgb(1, 1, 1);\"></td><td title=\"Index: [8, 2]&#10;Color: (1, 1, 1)\" style=\"width: 20px; height: 20px;background-color: rgb(1, 1, 1);\"></td><td title=\"Index: [8, 3]&#10;Color: (1, 1, 1)\" style=\"width: 20px; height: 20px;background-color: rgb(1, 1, 1);\"></td><td title=\"Index: [8, 4]&#10;Color: (1, 1, 1)\" style=\"width: 20px; height: 20px;background-color: rgb(1, 1, 1);\"></td><td title=\"Index: [8, 5]&#10;Color: (1, 1, 1)\" style=\"width: 20px; height: 20px;background-color: rgb(1, 1, 1);\"></td><td title=\"Index: [8, 6]&#10;Color: (1, 1, 1)\" style=\"width: 20px; height: 20px;background-color: rgb(1, 1, 1);\"></td><td title=\"Index: [8, 7]&#10;Color: (1, 1, 1)\" style=\"width: 20px; height: 20px;background-color: rgb(1, 1, 1);\"></td><td title=\"Index: [8, 8]&#10;Color: (1, 1, 1)\" style=\"width: 20px; height: 20px;background-color: rgb(1, 1, 1);\"></td><td title=\"Index: [8, 9]&#10;Color: (1, 1, 1)\" style=\"width: 20px; height: 20px;background-color: rgb(1, 1, 1);\"></td></tr><tr><td title=\"Index: [9, 0]&#10;Color: (1, 1, 1)\" style=\"width: 20px; height: 20px;background-color: rgb(1, 1, 1);\"></td><td title=\"Index: [9, 1]&#10;Color: (1, 1, 1)\" style=\"width: 20px; height: 20px;background-color: rgb(1, 1, 1);\"></td><td title=\"Index: [9, 2]&#10;Color: (1, 1, 1)\" style=\"width: 20px; height: 20px;background-color: rgb(1, 1, 1);\"></td><td title=\"Index: [9, 3]&#10;Color: (1, 1, 1)\" style=\"width: 20px; height: 20px;background-color: rgb(1, 1, 1);\"></td><td title=\"Index: [9, 4]&#10;Color: (1, 1, 1)\" style=\"width: 20px; height: 20px;background-color: rgb(1, 1, 1);\"></td><td title=\"Index: [9, 5]&#10;Color: (1, 1, 1)\" style=\"width: 20px; height: 20px;background-color: rgb(1, 1, 1);\"></td><td title=\"Index: [9, 6]&#10;Color: (1, 1, 1)\" style=\"width: 20px; height: 20px;background-color: rgb(1, 1, 1);\"></td><td title=\"Index: [9, 7]&#10;Color: (1, 1, 1)\" style=\"width: 20px; height: 20px;background-color: rgb(1, 1, 1);\"></td><td title=\"Index: [9, 8]&#10;Color: (1, 1, 1)\" style=\"width: 20px; height: 20px;background-color: rgb(1, 1, 1);\"></td><td title=\"Index: [9, 9]&#10;Color: (1, 1, 1)\" style=\"width: 20px; height: 20px;background-color: rgb(1, 1, 1);\"></td></tr></tbody></table>"
      ],
      "text/plain": [
       "<ipythonblocks.ipythonblocks.BlockGrid at 0x7fa1acc2eb00>"
      ]
     },
     "execution_count": 2,
     "metadata": {},
     "output_type": "execute_result"
    }
   ],
   "source": [
    "grid = BlockGrid(10, 10, fill=(1, 1, 1))\n",
    "grid"
   ]
  },
  {
   "cell_type": "code",
   "execution_count": 3,
   "metadata": {
    "collapsed": false
   },
   "outputs": [
    {
     "data": {
      "text/html": [
       "<style type=\"text/css\">table.blockgrid {border: none;} .blockgrid tr {border: none;} .blockgrid td {padding: 0px;} #blocks65322bc8-da09-45c5-b395-91e21695b540 td {border: 0px solid white;}</style><table id=\"blocks65322bc8-da09-45c5-b395-91e21695b540\" class=\"blockgrid\"><tbody><tr><td title=\"Index: [0, 0]&#10;Color: (1, 1, 1)\" style=\"width: 20px; height: 20px;background-color: rgb(1, 1, 1);\"></td></tr></tbody></table>"
      ],
      "text/plain": [
       "Block(1, 1, 1, size=20)"
      ]
     },
     "execution_count": 3,
     "metadata": {},
     "output_type": "execute_result"
    }
   ],
   "source": [
    "grid[0, 0]"
   ]
  },
  {
   "cell_type": "code",
   "execution_count": 4,
   "metadata": {
    "collapsed": false
   },
   "outputs": [
    {
     "data": {
      "text/plain": [
       "7"
      ]
     },
     "execution_count": 4,
     "metadata": {},
     "output_type": "execute_result"
    }
   ],
   "source": [
    "np.random.random_integers(0.0, 10)"
   ]
  },
  {
   "cell_type": "code",
   "execution_count": 5,
   "metadata": {
    "collapsed": false
   },
   "outputs": [
    {
     "name": "stdout",
     "output_type": "stream",
     "text": [
      "[ 0.  1.  2.  3.  4.  5.]\n"
     ]
    }
   ],
   "source": [
    "N = np.linspace(0, 5, 6)\n",
    "print (N)"
   ]
  },
  {
   "cell_type": "code",
   "execution_count": 6,
   "metadata": {
    "collapsed": false
   },
   "outputs": [
    {
     "name": "stdout",
     "output_type": "stream",
     "text": [
      "[1 6 3 0 0 3 4 8 6 9] [6 1 3 1 1 0 8 9 1 1] [7 7 4 0 9 6 1 8 3 0] [7 9 9 8 9 2 2 0 2 3]\n"
     ]
    },
    {
     "data": {
      "text/html": [
       "<style type=\"text/css\">table.blockgrid {border: none;} .blockgrid tr {border: none;} .blockgrid td {padding: 0px;} #blocks5c8615b8-c79a-425a-ba7c-d964a2f4ae72 td {border: 1px solid white;}</style><table id=\"blocks5c8615b8-c79a-425a-ba7c-d964a2f4ae72\" class=\"blockgrid\"><tbody><tr><td title=\"Index: [0, 0]&#10;Color: (0, 0, 0)\" style=\"width: 20px; height: 20px;background-color: rgb(0, 0, 0);\"></td><td title=\"Index: [0, 1]&#10;Color: (0, 0, 0)\" style=\"width: 20px; height: 20px;background-color: rgb(0, 0, 0);\"></td><td title=\"Index: [0, 2]&#10;Color: (0, 0, 0)\" style=\"width: 20px; height: 20px;background-color: rgb(0, 0, 0);\"></td><td title=\"Index: [0, 3]&#10;Color: (0, 0, 0)\" style=\"width: 20px; height: 20px;background-color: rgb(0, 0, 0);\"></td><td title=\"Index: [0, 4]&#10;Color: (0, 0, 0)\" style=\"width: 20px; height: 20px;background-color: rgb(0, 0, 0);\"></td><td title=\"Index: [0, 5]&#10;Color: (0, 0, 0)\" style=\"width: 20px; height: 20px;background-color: rgb(0, 0, 0);\"></td><td title=\"Index: [0, 6]&#10;Color: (0, 0, 0)\" style=\"width: 20px; height: 20px;background-color: rgb(0, 0, 0);\"></td><td title=\"Index: [0, 7]&#10;Color: (0, 0, 0)\" style=\"width: 20px; height: 20px;background-color: rgb(0, 0, 0);\"></td><td title=\"Index: [0, 8]&#10;Color: (0, 0, 0)\" style=\"width: 20px; height: 20px;background-color: rgb(0, 0, 0);\"></td><td title=\"Index: [0, 9]&#10;Color: (0, 0, 0)\" style=\"width: 20px; height: 20px;background-color: rgb(0, 0, 0);\"></td></tr><tr><td title=\"Index: [1, 0]&#10;Color: (0, 0, 0)\" style=\"width: 20px; height: 20px;background-color: rgb(0, 0, 0);\"></td><td title=\"Index: [1, 1]&#10;Color: (0, 0, 0)\" style=\"width: 20px; height: 20px;background-color: rgb(0, 0, 0);\"></td><td title=\"Index: [1, 2]&#10;Color: (0, 0, 0)\" style=\"width: 20px; height: 20px;background-color: rgb(0, 0, 0);\"></td><td title=\"Index: [1, 3]&#10;Color: (0, 0, 0)\" style=\"width: 20px; height: 20px;background-color: rgb(0, 0, 0);\"></td><td title=\"Index: [1, 4]&#10;Color: (0, 0, 0)\" style=\"width: 20px; height: 20px;background-color: rgb(0, 0, 0);\"></td><td title=\"Index: [1, 5]&#10;Color: (0, 0, 0)\" style=\"width: 20px; height: 20px;background-color: rgb(0, 0, 0);\"></td><td title=\"Index: [1, 6]&#10;Color: (0, 0, 0)\" style=\"width: 20px; height: 20px;background-color: rgb(0, 0, 0);\"></td><td title=\"Index: [1, 7]&#10;Color: (0, 0, 0)\" style=\"width: 20px; height: 20px;background-color: rgb(0, 0, 0);\"></td><td title=\"Index: [1, 8]&#10;Color: (0, 0, 0)\" style=\"width: 20px; height: 20px;background-color: rgb(0, 0, 0);\"></td><td title=\"Index: [1, 9]&#10;Color: (0, 0, 0)\" style=\"width: 20px; height: 20px;background-color: rgb(0, 0, 0);\"></td></tr><tr><td title=\"Index: [2, 0]&#10;Color: (0, 0, 0)\" style=\"width: 20px; height: 20px;background-color: rgb(0, 0, 0);\"></td><td title=\"Index: [2, 1]&#10;Color: (0, 0, 0)\" style=\"width: 20px; height: 20px;background-color: rgb(0, 0, 0);\"></td><td title=\"Index: [2, 2]&#10;Color: (0, 0, 0)\" style=\"width: 20px; height: 20px;background-color: rgb(0, 0, 0);\"></td><td title=\"Index: [2, 3]&#10;Color: (0, 0, 0)\" style=\"width: 20px; height: 20px;background-color: rgb(0, 0, 0);\"></td><td title=\"Index: [2, 4]&#10;Color: (0, 0, 0)\" style=\"width: 20px; height: 20px;background-color: rgb(0, 0, 0);\"></td><td title=\"Index: [2, 5]&#10;Color: (0, 0, 0)\" style=\"width: 20px; height: 20px;background-color: rgb(0, 0, 0);\"></td><td title=\"Index: [2, 6]&#10;Color: (0, 0, 0)\" style=\"width: 20px; height: 20px;background-color: rgb(0, 0, 0);\"></td><td title=\"Index: [2, 7]&#10;Color: (0, 0, 0)\" style=\"width: 20px; height: 20px;background-color: rgb(0, 0, 0);\"></td><td title=\"Index: [2, 8]&#10;Color: (0, 0, 0)\" style=\"width: 20px; height: 20px;background-color: rgb(0, 0, 0);\"></td><td title=\"Index: [2, 9]&#10;Color: (0, 0, 0)\" style=\"width: 20px; height: 20px;background-color: rgb(0, 0, 0);\"></td></tr><tr><td title=\"Index: [3, 0]&#10;Color: (0, 0, 0)\" style=\"width: 20px; height: 20px;background-color: rgb(0, 0, 0);\"></td><td title=\"Index: [3, 1]&#10;Color: (0, 0, 0)\" style=\"width: 20px; height: 20px;background-color: rgb(0, 0, 0);\"></td><td title=\"Index: [3, 2]&#10;Color: (0, 0, 0)\" style=\"width: 20px; height: 20px;background-color: rgb(0, 0, 0);\"></td><td title=\"Index: [3, 3]&#10;Color: (0, 0, 0)\" style=\"width: 20px; height: 20px;background-color: rgb(0, 0, 0);\"></td><td title=\"Index: [3, 4]&#10;Color: (0, 0, 0)\" style=\"width: 20px; height: 20px;background-color: rgb(0, 0, 0);\"></td><td title=\"Index: [3, 5]&#10;Color: (0, 0, 0)\" style=\"width: 20px; height: 20px;background-color: rgb(0, 0, 0);\"></td><td title=\"Index: [3, 6]&#10;Color: (0, 0, 0)\" style=\"width: 20px; height: 20px;background-color: rgb(0, 0, 0);\"></td><td title=\"Index: [3, 7]&#10;Color: (0, 0, 0)\" style=\"width: 20px; height: 20px;background-color: rgb(0, 0, 0);\"></td><td title=\"Index: [3, 8]&#10;Color: (0, 0, 0)\" style=\"width: 20px; height: 20px;background-color: rgb(0, 0, 0);\"></td><td title=\"Index: [3, 9]&#10;Color: (0, 0, 0)\" style=\"width: 20px; height: 20px;background-color: rgb(0, 0, 0);\"></td></tr><tr><td title=\"Index: [4, 0]&#10;Color: (0, 0, 0)\" style=\"width: 20px; height: 20px;background-color: rgb(0, 0, 0);\"></td><td title=\"Index: [4, 1]&#10;Color: (0, 0, 0)\" style=\"width: 20px; height: 20px;background-color: rgb(0, 0, 0);\"></td><td title=\"Index: [4, 2]&#10;Color: (0, 0, 0)\" style=\"width: 20px; height: 20px;background-color: rgb(0, 0, 0);\"></td><td title=\"Index: [4, 3]&#10;Color: (0, 0, 0)\" style=\"width: 20px; height: 20px;background-color: rgb(0, 0, 0);\"></td><td title=\"Index: [4, 4]&#10;Color: (0, 0, 0)\" style=\"width: 20px; height: 20px;background-color: rgb(0, 0, 0);\"></td><td title=\"Index: [4, 5]&#10;Color: (0, 0, 0)\" style=\"width: 20px; height: 20px;background-color: rgb(0, 0, 0);\"></td><td title=\"Index: [4, 6]&#10;Color: (0, 0, 0)\" style=\"width: 20px; height: 20px;background-color: rgb(0, 0, 0);\"></td><td title=\"Index: [4, 7]&#10;Color: (0, 0, 0)\" style=\"width: 20px; height: 20px;background-color: rgb(0, 0, 0);\"></td><td title=\"Index: [4, 8]&#10;Color: (0, 0, 0)\" style=\"width: 20px; height: 20px;background-color: rgb(0, 0, 0);\"></td><td title=\"Index: [4, 9]&#10;Color: (0, 0, 0)\" style=\"width: 20px; height: 20px;background-color: rgb(0, 0, 0);\"></td></tr><tr><td title=\"Index: [5, 0]&#10;Color: (0, 0, 0)\" style=\"width: 20px; height: 20px;background-color: rgb(0, 0, 0);\"></td><td title=\"Index: [5, 1]&#10;Color: (0, 0, 0)\" style=\"width: 20px; height: 20px;background-color: rgb(0, 0, 0);\"></td><td title=\"Index: [5, 2]&#10;Color: (0, 0, 0)\" style=\"width: 20px; height: 20px;background-color: rgb(0, 0, 0);\"></td><td title=\"Index: [5, 3]&#10;Color: (0, 0, 0)\" style=\"width: 20px; height: 20px;background-color: rgb(0, 0, 0);\"></td><td title=\"Index: [5, 4]&#10;Color: (0, 0, 0)\" style=\"width: 20px; height: 20px;background-color: rgb(0, 0, 0);\"></td><td title=\"Index: [5, 5]&#10;Color: (0, 0, 0)\" style=\"width: 20px; height: 20px;background-color: rgb(0, 0, 0);\"></td><td title=\"Index: [5, 6]&#10;Color: (0, 0, 0)\" style=\"width: 20px; height: 20px;background-color: rgb(0, 0, 0);\"></td><td title=\"Index: [5, 7]&#10;Color: (0, 0, 0)\" style=\"width: 20px; height: 20px;background-color: rgb(0, 0, 0);\"></td><td title=\"Index: [5, 8]&#10;Color: (0, 0, 0)\" style=\"width: 20px; height: 20px;background-color: rgb(0, 0, 0);\"></td><td title=\"Index: [5, 9]&#10;Color: (0, 0, 0)\" style=\"width: 20px; height: 20px;background-color: rgb(0, 0, 0);\"></td></tr><tr><td title=\"Index: [6, 0]&#10;Color: (0, 0, 0)\" style=\"width: 20px; height: 20px;background-color: rgb(0, 0, 0);\"></td><td title=\"Index: [6, 1]&#10;Color: (0, 0, 0)\" style=\"width: 20px; height: 20px;background-color: rgb(0, 0, 0);\"></td><td title=\"Index: [6, 2]&#10;Color: (0, 0, 0)\" style=\"width: 20px; height: 20px;background-color: rgb(0, 0, 0);\"></td><td title=\"Index: [6, 3]&#10;Color: (0, 0, 0)\" style=\"width: 20px; height: 20px;background-color: rgb(0, 0, 0);\"></td><td title=\"Index: [6, 4]&#10;Color: (0, 0, 0)\" style=\"width: 20px; height: 20px;background-color: rgb(0, 0, 0);\"></td><td title=\"Index: [6, 5]&#10;Color: (0, 0, 0)\" style=\"width: 20px; height: 20px;background-color: rgb(0, 0, 0);\"></td><td title=\"Index: [6, 6]&#10;Color: (0, 0, 0)\" style=\"width: 20px; height: 20px;background-color: rgb(0, 0, 0);\"></td><td title=\"Index: [6, 7]&#10;Color: (0, 0, 0)\" style=\"width: 20px; height: 20px;background-color: rgb(0, 0, 0);\"></td><td title=\"Index: [6, 8]&#10;Color: (0, 0, 0)\" style=\"width: 20px; height: 20px;background-color: rgb(0, 0, 0);\"></td><td title=\"Index: [6, 9]&#10;Color: (0, 0, 0)\" style=\"width: 20px; height: 20px;background-color: rgb(0, 0, 0);\"></td></tr><tr><td title=\"Index: [7, 0]&#10;Color: (0, 0, 0)\" style=\"width: 20px; height: 20px;background-color: rgb(0, 0, 0);\"></td><td title=\"Index: [7, 1]&#10;Color: (0, 0, 0)\" style=\"width: 20px; height: 20px;background-color: rgb(0, 0, 0);\"></td><td title=\"Index: [7, 2]&#10;Color: (0, 0, 0)\" style=\"width: 20px; height: 20px;background-color: rgb(0, 0, 0);\"></td><td title=\"Index: [7, 3]&#10;Color: (0, 0, 0)\" style=\"width: 20px; height: 20px;background-color: rgb(0, 0, 0);\"></td><td title=\"Index: [7, 4]&#10;Color: (0, 0, 0)\" style=\"width: 20px; height: 20px;background-color: rgb(0, 0, 0);\"></td><td title=\"Index: [7, 5]&#10;Color: (0, 0, 0)\" style=\"width: 20px; height: 20px;background-color: rgb(0, 0, 0);\"></td><td title=\"Index: [7, 6]&#10;Color: (0, 0, 0)\" style=\"width: 20px; height: 20px;background-color: rgb(0, 0, 0);\"></td><td title=\"Index: [7, 7]&#10;Color: (0, 0, 0)\" style=\"width: 20px; height: 20px;background-color: rgb(0, 0, 0);\"></td><td title=\"Index: [7, 8]&#10;Color: (0, 0, 0)\" style=\"width: 20px; height: 20px;background-color: rgb(0, 0, 0);\"></td><td title=\"Index: [7, 9]&#10;Color: (0, 0, 0)\" style=\"width: 20px; height: 20px;background-color: rgb(0, 0, 0);\"></td></tr><tr><td title=\"Index: [8, 0]&#10;Color: (0, 0, 0)\" style=\"width: 20px; height: 20px;background-color: rgb(0, 0, 0);\"></td><td title=\"Index: [8, 1]&#10;Color: (0, 0, 0)\" style=\"width: 20px; height: 20px;background-color: rgb(0, 0, 0);\"></td><td title=\"Index: [8, 2]&#10;Color: (0, 0, 0)\" style=\"width: 20px; height: 20px;background-color: rgb(0, 0, 0);\"></td><td title=\"Index: [8, 3]&#10;Color: (0, 0, 0)\" style=\"width: 20px; height: 20px;background-color: rgb(0, 0, 0);\"></td><td title=\"Index: [8, 4]&#10;Color: (0, 0, 0)\" style=\"width: 20px; height: 20px;background-color: rgb(0, 0, 0);\"></td><td title=\"Index: [8, 5]&#10;Color: (0, 0, 0)\" style=\"width: 20px; height: 20px;background-color: rgb(0, 0, 0);\"></td><td title=\"Index: [8, 6]&#10;Color: (0, 0, 0)\" style=\"width: 20px; height: 20px;background-color: rgb(0, 0, 0);\"></td><td title=\"Index: [8, 7]&#10;Color: (0, 0, 0)\" style=\"width: 20px; height: 20px;background-color: rgb(0, 0, 0);\"></td><td title=\"Index: [8, 8]&#10;Color: (0, 0, 0)\" style=\"width: 20px; height: 20px;background-color: rgb(0, 0, 0);\"></td><td title=\"Index: [8, 9]&#10;Color: (0, 0, 0)\" style=\"width: 20px; height: 20px;background-color: rgb(0, 0, 0);\"></td></tr><tr><td title=\"Index: [9, 0]&#10;Color: (0, 0, 0)\" style=\"width: 20px; height: 20px;background-color: rgb(0, 0, 0);\"></td><td title=\"Index: [9, 1]&#10;Color: (0, 0, 0)\" style=\"width: 20px; height: 20px;background-color: rgb(0, 0, 0);\"></td><td title=\"Index: [9, 2]&#10;Color: (0, 0, 0)\" style=\"width: 20px; height: 20px;background-color: rgb(0, 0, 0);\"></td><td title=\"Index: [9, 3]&#10;Color: (0, 0, 0)\" style=\"width: 20px; height: 20px;background-color: rgb(0, 0, 0);\"></td><td title=\"Index: [9, 4]&#10;Color: (0, 0, 0)\" style=\"width: 20px; height: 20px;background-color: rgb(0, 0, 0);\"></td><td title=\"Index: [9, 5]&#10;Color: (0, 0, 0)\" style=\"width: 20px; height: 20px;background-color: rgb(0, 0, 0);\"></td><td title=\"Index: [9, 6]&#10;Color: (0, 0, 0)\" style=\"width: 20px; height: 20px;background-color: rgb(0, 0, 0);\"></td><td title=\"Index: [9, 7]&#10;Color: (0, 0, 0)\" style=\"width: 20px; height: 20px;background-color: rgb(0, 0, 0);\"></td><td title=\"Index: [9, 8]&#10;Color: (0, 0, 0)\" style=\"width: 20px; height: 20px;background-color: rgb(0, 0, 0);\"></td><td title=\"Index: [9, 9]&#10;Color: (0, 0, 0)\" style=\"width: 20px; height: 20px;background-color: rgb(0, 0, 0);\"></td></tr></tbody></table>"
      ],
      "text/plain": [
       "<ipythonblocks.ipythonblocks.BlockGrid at 0x7fa1acc1cfd0>"
      ]
     },
     "execution_count": 6,
     "metadata": {},
     "output_type": "execute_result"
    }
   ],
   "source": [
    "grid = BlockGrid(10, 10)\n",
    "a = np.random.randint(10, size = 10)\n",
    "b = np.random.randint(10, size = 10)\n",
    "x = np.random.randint(10, size = 10)\n",
    "y = np.random.randint(10, size = 10)\n",
    "print (a,b,x,y)\n",
    "for block in grid:\n",
    "    if x.any()==a.any() and y.any()==b.any():\n",
    "        block.black = 0\n",
    "    else:\n",
    "        for block in grid[x:x+1, y:y+1]:\n",
    "            block.blue = 100\n",
    "        for block in grid[a:a+1, b:b+1]:\n",
    "            block.green = 100\n",
    "grid"
   ]
  },
  {
   "cell_type": "code",
   "execution_count": 7,
   "metadata": {
    "collapsed": false
   },
   "outputs": [
    {
     "name": "stdout",
     "output_type": "stream",
     "text": [
      "[1 5 2 7 8 6 3 9 9 4] [3 2 0 1 1 5 1 7 8 0] [2 9 3 7 7 4 2 6 1 7] [1 1 8 0 2 5 3 6 1 3]\n"
     ]
    },
    {
     "data": {
      "text/html": [
       "<style type=\"text/css\">table.blockgrid {border: none;} .blockgrid tr {border: none;} .blockgrid td {padding: 0px;} #blocksfa4a1a61-1686-48b4-aa5e-9f2c24e2ab57 td {border: 1px solid white;}</style><table id=\"blocksfa4a1a61-1686-48b4-aa5e-9f2c24e2ab57\" class=\"blockgrid\"><tbody><tr><td title=\"Index: [0, 0]&#10;Color: (0, 0, 0)\" style=\"width: 20px; height: 20px;background-color: rgb(0, 0, 0);\"></td><td title=\"Index: [0, 1]&#10;Color: (0, 0, 0)\" style=\"width: 20px; height: 20px;background-color: rgb(0, 0, 0);\"></td><td title=\"Index: [0, 2]&#10;Color: (0, 0, 0)\" style=\"width: 20px; height: 20px;background-color: rgb(0, 0, 0);\"></td><td title=\"Index: [0, 3]&#10;Color: (0, 0, 0)\" style=\"width: 20px; height: 20px;background-color: rgb(0, 0, 0);\"></td><td title=\"Index: [0, 4]&#10;Color: (0, 0, 0)\" style=\"width: 20px; height: 20px;background-color: rgb(0, 0, 0);\"></td><td title=\"Index: [0, 5]&#10;Color: (0, 0, 0)\" style=\"width: 20px; height: 20px;background-color: rgb(0, 0, 0);\"></td><td title=\"Index: [0, 6]&#10;Color: (0, 0, 0)\" style=\"width: 20px; height: 20px;background-color: rgb(0, 0, 0);\"></td><td title=\"Index: [0, 7]&#10;Color: (0, 0, 0)\" style=\"width: 20px; height: 20px;background-color: rgb(0, 0, 0);\"></td><td title=\"Index: [0, 8]&#10;Color: (0, 0, 0)\" style=\"width: 20px; height: 20px;background-color: rgb(0, 0, 0);\"></td><td title=\"Index: [0, 9]&#10;Color: (0, 0, 0)\" style=\"width: 20px; height: 20px;background-color: rgb(0, 0, 0);\"></td></tr><tr><td title=\"Index: [1, 0]&#10;Color: (0, 0, 0)\" style=\"width: 20px; height: 20px;background-color: rgb(0, 0, 0);\"></td><td title=\"Index: [1, 1]&#10;Color: (0, 0, 0)\" style=\"width: 20px; height: 20px;background-color: rgb(0, 0, 0);\"></td><td title=\"Index: [1, 2]&#10;Color: (0, 0, 0)\" style=\"width: 20px; height: 20px;background-color: rgb(0, 0, 0);\"></td><td title=\"Index: [1, 3]&#10;Color: (0, 0, 0)\" style=\"width: 20px; height: 20px;background-color: rgb(0, 0, 0);\"></td><td title=\"Index: [1, 4]&#10;Color: (0, 0, 0)\" style=\"width: 20px; height: 20px;background-color: rgb(0, 0, 0);\"></td><td title=\"Index: [1, 5]&#10;Color: (0, 0, 0)\" style=\"width: 20px; height: 20px;background-color: rgb(0, 0, 0);\"></td><td title=\"Index: [1, 6]&#10;Color: (0, 0, 0)\" style=\"width: 20px; height: 20px;background-color: rgb(0, 0, 0);\"></td><td title=\"Index: [1, 7]&#10;Color: (0, 0, 0)\" style=\"width: 20px; height: 20px;background-color: rgb(0, 0, 0);\"></td><td title=\"Index: [1, 8]&#10;Color: (0, 0, 0)\" style=\"width: 20px; height: 20px;background-color: rgb(0, 0, 0);\"></td><td title=\"Index: [1, 9]&#10;Color: (0, 0, 0)\" style=\"width: 20px; height: 20px;background-color: rgb(0, 0, 0);\"></td></tr><tr><td title=\"Index: [2, 0]&#10;Color: (0, 0, 0)\" style=\"width: 20px; height: 20px;background-color: rgb(0, 0, 0);\"></td><td title=\"Index: [2, 1]&#10;Color: (0, 0, 0)\" style=\"width: 20px; height: 20px;background-color: rgb(0, 0, 0);\"></td><td title=\"Index: [2, 2]&#10;Color: (0, 0, 0)\" style=\"width: 20px; height: 20px;background-color: rgb(0, 0, 0);\"></td><td title=\"Index: [2, 3]&#10;Color: (0, 0, 0)\" style=\"width: 20px; height: 20px;background-color: rgb(0, 0, 0);\"></td><td title=\"Index: [2, 4]&#10;Color: (0, 0, 0)\" style=\"width: 20px; height: 20px;background-color: rgb(0, 0, 0);\"></td><td title=\"Index: [2, 5]&#10;Color: (0, 0, 0)\" style=\"width: 20px; height: 20px;background-color: rgb(0, 0, 0);\"></td><td title=\"Index: [2, 6]&#10;Color: (0, 0, 0)\" style=\"width: 20px; height: 20px;background-color: rgb(0, 0, 0);\"></td><td title=\"Index: [2, 7]&#10;Color: (0, 0, 0)\" style=\"width: 20px; height: 20px;background-color: rgb(0, 0, 0);\"></td><td title=\"Index: [2, 8]&#10;Color: (0, 0, 0)\" style=\"width: 20px; height: 20px;background-color: rgb(0, 0, 0);\"></td><td title=\"Index: [2, 9]&#10;Color: (0, 0, 0)\" style=\"width: 20px; height: 20px;background-color: rgb(0, 0, 0);\"></td></tr><tr><td title=\"Index: [3, 0]&#10;Color: (0, 0, 0)\" style=\"width: 20px; height: 20px;background-color: rgb(0, 0, 0);\"></td><td title=\"Index: [3, 1]&#10;Color: (0, 0, 0)\" style=\"width: 20px; height: 20px;background-color: rgb(0, 0, 0);\"></td><td title=\"Index: [3, 2]&#10;Color: (0, 0, 0)\" style=\"width: 20px; height: 20px;background-color: rgb(0, 0, 0);\"></td><td title=\"Index: [3, 3]&#10;Color: (0, 0, 0)\" style=\"width: 20px; height: 20px;background-color: rgb(0, 0, 0);\"></td><td title=\"Index: [3, 4]&#10;Color: (0, 0, 0)\" style=\"width: 20px; height: 20px;background-color: rgb(0, 0, 0);\"></td><td title=\"Index: [3, 5]&#10;Color: (0, 0, 0)\" style=\"width: 20px; height: 20px;background-color: rgb(0, 0, 0);\"></td><td title=\"Index: [3, 6]&#10;Color: (0, 0, 0)\" style=\"width: 20px; height: 20px;background-color: rgb(0, 0, 0);\"></td><td title=\"Index: [3, 7]&#10;Color: (0, 0, 0)\" style=\"width: 20px; height: 20px;background-color: rgb(0, 0, 0);\"></td><td title=\"Index: [3, 8]&#10;Color: (0, 0, 0)\" style=\"width: 20px; height: 20px;background-color: rgb(0, 0, 0);\"></td><td title=\"Index: [3, 9]&#10;Color: (0, 0, 0)\" style=\"width: 20px; height: 20px;background-color: rgb(0, 0, 0);\"></td></tr><tr><td title=\"Index: [4, 0]&#10;Color: (0, 0, 0)\" style=\"width: 20px; height: 20px;background-color: rgb(0, 0, 0);\"></td><td title=\"Index: [4, 1]&#10;Color: (0, 0, 0)\" style=\"width: 20px; height: 20px;background-color: rgb(0, 0, 0);\"></td><td title=\"Index: [4, 2]&#10;Color: (0, 0, 0)\" style=\"width: 20px; height: 20px;background-color: rgb(0, 0, 0);\"></td><td title=\"Index: [4, 3]&#10;Color: (0, 0, 0)\" style=\"width: 20px; height: 20px;background-color: rgb(0, 0, 0);\"></td><td title=\"Index: [4, 4]&#10;Color: (0, 0, 0)\" style=\"width: 20px; height: 20px;background-color: rgb(0, 0, 0);\"></td><td title=\"Index: [4, 5]&#10;Color: (0, 0, 0)\" style=\"width: 20px; height: 20px;background-color: rgb(0, 0, 0);\"></td><td title=\"Index: [4, 6]&#10;Color: (0, 0, 0)\" style=\"width: 20px; height: 20px;background-color: rgb(0, 0, 0);\"></td><td title=\"Index: [4, 7]&#10;Color: (0, 0, 0)\" style=\"width: 20px; height: 20px;background-color: rgb(0, 0, 0);\"></td><td title=\"Index: [4, 8]&#10;Color: (0, 0, 0)\" style=\"width: 20px; height: 20px;background-color: rgb(0, 0, 0);\"></td><td title=\"Index: [4, 9]&#10;Color: (0, 0, 0)\" style=\"width: 20px; height: 20px;background-color: rgb(0, 0, 0);\"></td></tr><tr><td title=\"Index: [5, 0]&#10;Color: (0, 0, 0)\" style=\"width: 20px; height: 20px;background-color: rgb(0, 0, 0);\"></td><td title=\"Index: [5, 1]&#10;Color: (0, 0, 0)\" style=\"width: 20px; height: 20px;background-color: rgb(0, 0, 0);\"></td><td title=\"Index: [5, 2]&#10;Color: (0, 0, 0)\" style=\"width: 20px; height: 20px;background-color: rgb(0, 0, 0);\"></td><td title=\"Index: [5, 3]&#10;Color: (0, 0, 0)\" style=\"width: 20px; height: 20px;background-color: rgb(0, 0, 0);\"></td><td title=\"Index: [5, 4]&#10;Color: (0, 0, 0)\" style=\"width: 20px; height: 20px;background-color: rgb(0, 0, 0);\"></td><td title=\"Index: [5, 5]&#10;Color: (0, 0, 0)\" style=\"width: 20px; height: 20px;background-color: rgb(0, 0, 0);\"></td><td title=\"Index: [5, 6]&#10;Color: (0, 0, 0)\" style=\"width: 20px; height: 20px;background-color: rgb(0, 0, 0);\"></td><td title=\"Index: [5, 7]&#10;Color: (0, 0, 0)\" style=\"width: 20px; height: 20px;background-color: rgb(0, 0, 0);\"></td><td title=\"Index: [5, 8]&#10;Color: (0, 0, 0)\" style=\"width: 20px; height: 20px;background-color: rgb(0, 0, 0);\"></td><td title=\"Index: [5, 9]&#10;Color: (0, 0, 0)\" style=\"width: 20px; height: 20px;background-color: rgb(0, 0, 0);\"></td></tr><tr><td title=\"Index: [6, 0]&#10;Color: (0, 0, 0)\" style=\"width: 20px; height: 20px;background-color: rgb(0, 0, 0);\"></td><td title=\"Index: [6, 1]&#10;Color: (0, 0, 0)\" style=\"width: 20px; height: 20px;background-color: rgb(0, 0, 0);\"></td><td title=\"Index: [6, 2]&#10;Color: (0, 0, 0)\" style=\"width: 20px; height: 20px;background-color: rgb(0, 0, 0);\"></td><td title=\"Index: [6, 3]&#10;Color: (0, 0, 0)\" style=\"width: 20px; height: 20px;background-color: rgb(0, 0, 0);\"></td><td title=\"Index: [6, 4]&#10;Color: (0, 0, 0)\" style=\"width: 20px; height: 20px;background-color: rgb(0, 0, 0);\"></td><td title=\"Index: [6, 5]&#10;Color: (0, 0, 0)\" style=\"width: 20px; height: 20px;background-color: rgb(0, 0, 0);\"></td><td title=\"Index: [6, 6]&#10;Color: (0, 0, 0)\" style=\"width: 20px; height: 20px;background-color: rgb(0, 0, 0);\"></td><td title=\"Index: [6, 7]&#10;Color: (0, 0, 0)\" style=\"width: 20px; height: 20px;background-color: rgb(0, 0, 0);\"></td><td title=\"Index: [6, 8]&#10;Color: (0, 0, 0)\" style=\"width: 20px; height: 20px;background-color: rgb(0, 0, 0);\"></td><td title=\"Index: [6, 9]&#10;Color: (0, 0, 0)\" style=\"width: 20px; height: 20px;background-color: rgb(0, 0, 0);\"></td></tr><tr><td title=\"Index: [7, 0]&#10;Color: (0, 0, 0)\" style=\"width: 20px; height: 20px;background-color: rgb(0, 0, 0);\"></td><td title=\"Index: [7, 1]&#10;Color: (0, 0, 0)\" style=\"width: 20px; height: 20px;background-color: rgb(0, 0, 0);\"></td><td title=\"Index: [7, 2]&#10;Color: (0, 0, 0)\" style=\"width: 20px; height: 20px;background-color: rgb(0, 0, 0);\"></td><td title=\"Index: [7, 3]&#10;Color: (0, 0, 0)\" style=\"width: 20px; height: 20px;background-color: rgb(0, 0, 0);\"></td><td title=\"Index: [7, 4]&#10;Color: (0, 0, 0)\" style=\"width: 20px; height: 20px;background-color: rgb(0, 0, 0);\"></td><td title=\"Index: [7, 5]&#10;Color: (0, 0, 0)\" style=\"width: 20px; height: 20px;background-color: rgb(0, 0, 0);\"></td><td title=\"Index: [7, 6]&#10;Color: (0, 0, 0)\" style=\"width: 20px; height: 20px;background-color: rgb(0, 0, 0);\"></td><td title=\"Index: [7, 7]&#10;Color: (0, 0, 0)\" style=\"width: 20px; height: 20px;background-color: rgb(0, 0, 0);\"></td><td title=\"Index: [7, 8]&#10;Color: (0, 0, 0)\" style=\"width: 20px; height: 20px;background-color: rgb(0, 0, 0);\"></td><td title=\"Index: [7, 9]&#10;Color: (0, 0, 0)\" style=\"width: 20px; height: 20px;background-color: rgb(0, 0, 0);\"></td></tr><tr><td title=\"Index: [8, 0]&#10;Color: (0, 0, 0)\" style=\"width: 20px; height: 20px;background-color: rgb(0, 0, 0);\"></td><td title=\"Index: [8, 1]&#10;Color: (0, 0, 0)\" style=\"width: 20px; height: 20px;background-color: rgb(0, 0, 0);\"></td><td title=\"Index: [8, 2]&#10;Color: (0, 0, 0)\" style=\"width: 20px; height: 20px;background-color: rgb(0, 0, 0);\"></td><td title=\"Index: [8, 3]&#10;Color: (0, 0, 0)\" style=\"width: 20px; height: 20px;background-color: rgb(0, 0, 0);\"></td><td title=\"Index: [8, 4]&#10;Color: (0, 0, 0)\" style=\"width: 20px; height: 20px;background-color: rgb(0, 0, 0);\"></td><td title=\"Index: [8, 5]&#10;Color: (0, 0, 0)\" style=\"width: 20px; height: 20px;background-color: rgb(0, 0, 0);\"></td><td title=\"Index: [8, 6]&#10;Color: (0, 0, 0)\" style=\"width: 20px; height: 20px;background-color: rgb(0, 0, 0);\"></td><td title=\"Index: [8, 7]&#10;Color: (0, 0, 0)\" style=\"width: 20px; height: 20px;background-color: rgb(0, 0, 0);\"></td><td title=\"Index: [8, 8]&#10;Color: (0, 0, 0)\" style=\"width: 20px; height: 20px;background-color: rgb(0, 0, 0);\"></td><td title=\"Index: [8, 9]&#10;Color: (0, 0, 0)\" style=\"width: 20px; height: 20px;background-color: rgb(0, 0, 0);\"></td></tr><tr><td title=\"Index: [9, 0]&#10;Color: (0, 0, 0)\" style=\"width: 20px; height: 20px;background-color: rgb(0, 0, 0);\"></td><td title=\"Index: [9, 1]&#10;Color: (0, 0, 0)\" style=\"width: 20px; height: 20px;background-color: rgb(0, 0, 0);\"></td><td title=\"Index: [9, 2]&#10;Color: (0, 0, 0)\" style=\"width: 20px; height: 20px;background-color: rgb(0, 0, 0);\"></td><td title=\"Index: [9, 3]&#10;Color: (0, 0, 0)\" style=\"width: 20px; height: 20px;background-color: rgb(0, 0, 0);\"></td><td title=\"Index: [9, 4]&#10;Color: (0, 0, 0)\" style=\"width: 20px; height: 20px;background-color: rgb(0, 0, 0);\"></td><td title=\"Index: [9, 5]&#10;Color: (0, 0, 0)\" style=\"width: 20px; height: 20px;background-color: rgb(0, 0, 0);\"></td><td title=\"Index: [9, 6]&#10;Color: (0, 0, 0)\" style=\"width: 20px; height: 20px;background-color: rgb(0, 0, 0);\"></td><td title=\"Index: [9, 7]&#10;Color: (0, 0, 0)\" style=\"width: 20px; height: 20px;background-color: rgb(0, 0, 0);\"></td><td title=\"Index: [9, 8]&#10;Color: (0, 0, 0)\" style=\"width: 20px; height: 20px;background-color: rgb(0, 0, 0);\"></td><td title=\"Index: [9, 9]&#10;Color: (0, 0, 0)\" style=\"width: 20px; height: 20px;background-color: rgb(0, 0, 0);\"></td></tr></tbody></table>"
      ],
      "text/plain": [
       "<ipythonblocks.ipythonblocks.BlockGrid at 0x7fa18e13f048>"
      ]
     },
     "execution_count": 7,
     "metadata": {},
     "output_type": "execute_result"
    }
   ],
   "source": [
    "grid = BlockGrid(10, 10)\n",
    "a = np.random.randint(10, size = 10)\n",
    "b = np.random.randint(10, size = 10)\n",
    "x = np.random.randint(10, size = 10)\n",
    "y = np.random.randint(10, size = 10)\n",
    "print (a,b,x,y)\n",
    "\n",
    "if x.any()==a.any() and y.any()==b.any():\n",
    "    block.black = 0\n",
    "elif a.any()==a.any() and b.any()==b.any():\n",
    "    block.black = 0\n",
    "elif x.any()==x.any() and y.any()==y.any():\n",
    "    block.black = 0\n",
    "else:\n",
    "    for block in grid[x:x+1, y:y+1]:\n",
    "        block.blue = 100\n",
    "    for block in grid[a:a+1, b:b+1]:\n",
    "        block.green = 100\n",
    "        \n",
    "        \n",
    "grid"
   ]
  },
  {
   "cell_type": "code",
   "execution_count": null,
   "metadata": {
    "collapsed": true
   },
   "outputs": [],
   "source": []
  },
  {
   "cell_type": "code",
   "execution_count": 8,
   "metadata": {
    "collapsed": false
   },
   "outputs": [
    {
     "name": "stdout",
     "output_type": "stream",
     "text": [
      "6 0\n",
      "4 6\n",
      "2 0\n",
      "2 5\n",
      "8 3\n",
      "1 2\n"
     ]
    },
    {
     "data": {
      "text/html": [
       "<style type=\"text/css\">table.blockgrid {border: none;} .blockgrid tr {border: none;} .blockgrid td {padding: 0px;} #blocks35581540-1fd5-42d8-be79-d27b94a977b5 td {border: 1px solid white;}</style><table id=\"blocks35581540-1fd5-42d8-be79-d27b94a977b5\" class=\"blockgrid\"><tbody><tr><td title=\"Index: [0, 0]&#10;Color: (0, 0, 0)\" style=\"width: 20px; height: 20px;background-color: rgb(0, 0, 0);\"></td><td title=\"Index: [0, 1]&#10;Color: (0, 0, 0)\" style=\"width: 20px; height: 20px;background-color: rgb(0, 0, 0);\"></td><td title=\"Index: [0, 2]&#10;Color: (0, 255, 0)\" style=\"width: 20px; height: 20px;background-color: rgb(0, 255, 0);\"></td><td title=\"Index: [0, 3]&#10;Color: (0, 0, 0)\" style=\"width: 20px; height: 20px;background-color: rgb(0, 0, 0);\"></td><td title=\"Index: [0, 4]&#10;Color: (0, 0, 0)\" style=\"width: 20px; height: 20px;background-color: rgb(0, 0, 0);\"></td><td title=\"Index: [0, 5]&#10;Color: (0, 0, 0)\" style=\"width: 20px; height: 20px;background-color: rgb(0, 0, 0);\"></td><td title=\"Index: [0, 6]&#10;Color: (0, 0, 0)\" style=\"width: 20px; height: 20px;background-color: rgb(0, 0, 0);\"></td><td title=\"Index: [0, 7]&#10;Color: (0, 0, 0)\" style=\"width: 20px; height: 20px;background-color: rgb(0, 0, 0);\"></td><td title=\"Index: [0, 8]&#10;Color: (0, 0, 0)\" style=\"width: 20px; height: 20px;background-color: rgb(0, 0, 0);\"></td><td title=\"Index: [0, 9]&#10;Color: (0, 0, 0)\" style=\"width: 20px; height: 20px;background-color: rgb(0, 0, 0);\"></td></tr><tr><td title=\"Index: [1, 0]&#10;Color: (0, 255, 0)\" style=\"width: 20px; height: 20px;background-color: rgb(0, 255, 0);\"></td><td title=\"Index: [1, 1]&#10;Color: (0, 255, 0)\" style=\"width: 20px; height: 20px;background-color: rgb(0, 255, 0);\"></td><td title=\"Index: [1, 2]&#10;Color: (0, 100, 0)\" style=\"width: 20px; height: 20px;background-color: rgb(0, 100, 0);\"></td><td title=\"Index: [1, 3]&#10;Color: (0, 255, 0)\" style=\"width: 20px; height: 20px;background-color: rgb(0, 255, 0);\"></td><td title=\"Index: [1, 4]&#10;Color: (0, 255, 0)\" style=\"width: 20px; height: 20px;background-color: rgb(0, 255, 0);\"></td><td title=\"Index: [1, 5]&#10;Color: (0, 255, 0)\" style=\"width: 20px; height: 20px;background-color: rgb(0, 255, 0);\"></td><td title=\"Index: [1, 6]&#10;Color: (0, 255, 0)\" style=\"width: 20px; height: 20px;background-color: rgb(0, 255, 0);\"></td><td title=\"Index: [1, 7]&#10;Color: (0, 255, 0)\" style=\"width: 20px; height: 20px;background-color: rgb(0, 255, 0);\"></td><td title=\"Index: [1, 8]&#10;Color: (0, 255, 0)\" style=\"width: 20px; height: 20px;background-color: rgb(0, 255, 0);\"></td><td title=\"Index: [1, 9]&#10;Color: (0, 255, 0)\" style=\"width: 20px; height: 20px;background-color: rgb(0, 255, 0);\"></td></tr><tr><td title=\"Index: [2, 0]&#10;Color: (0, 0, 0)\" style=\"width: 20px; height: 20px;background-color: rgb(0, 0, 0);\"></td><td title=\"Index: [2, 1]&#10;Color: (0, 0, 0)\" style=\"width: 20px; height: 20px;background-color: rgb(0, 0, 0);\"></td><td title=\"Index: [2, 2]&#10;Color: (0, 255, 0)\" style=\"width: 20px; height: 20px;background-color: rgb(0, 255, 0);\"></td><td title=\"Index: [2, 3]&#10;Color: (0, 0, 0)\" style=\"width: 20px; height: 20px;background-color: rgb(0, 0, 0);\"></td><td title=\"Index: [2, 4]&#10;Color: (0, 0, 0)\" style=\"width: 20px; height: 20px;background-color: rgb(0, 0, 0);\"></td><td title=\"Index: [2, 5]&#10;Color: (0, 0, 0)\" style=\"width: 20px; height: 20px;background-color: rgb(0, 0, 0);\"></td><td title=\"Index: [2, 6]&#10;Color: (0, 0, 0)\" style=\"width: 20px; height: 20px;background-color: rgb(0, 0, 0);\"></td><td title=\"Index: [2, 7]&#10;Color: (0, 0, 0)\" style=\"width: 20px; height: 20px;background-color: rgb(0, 0, 0);\"></td><td title=\"Index: [2, 8]&#10;Color: (0, 0, 0)\" style=\"width: 20px; height: 20px;background-color: rgb(0, 0, 0);\"></td><td title=\"Index: [2, 9]&#10;Color: (0, 0, 0)\" style=\"width: 20px; height: 20px;background-color: rgb(0, 0, 0);\"></td></tr><tr><td title=\"Index: [3, 0]&#10;Color: (0, 0, 0)\" style=\"width: 20px; height: 20px;background-color: rgb(0, 0, 0);\"></td><td title=\"Index: [3, 1]&#10;Color: (0, 0, 0)\" style=\"width: 20px; height: 20px;background-color: rgb(0, 0, 0);\"></td><td title=\"Index: [3, 2]&#10;Color: (0, 255, 0)\" style=\"width: 20px; height: 20px;background-color: rgb(0, 255, 0);\"></td><td title=\"Index: [3, 3]&#10;Color: (0, 0, 0)\" style=\"width: 20px; height: 20px;background-color: rgb(0, 0, 0);\"></td><td title=\"Index: [3, 4]&#10;Color: (0, 0, 0)\" style=\"width: 20px; height: 20px;background-color: rgb(0, 0, 0);\"></td><td title=\"Index: [3, 5]&#10;Color: (0, 0, 0)\" style=\"width: 20px; height: 20px;background-color: rgb(0, 0, 0);\"></td><td title=\"Index: [3, 6]&#10;Color: (0, 0, 0)\" style=\"width: 20px; height: 20px;background-color: rgb(0, 0, 0);\"></td><td title=\"Index: [3, 7]&#10;Color: (0, 0, 0)\" style=\"width: 20px; height: 20px;background-color: rgb(0, 0, 0);\"></td><td title=\"Index: [3, 8]&#10;Color: (0, 0, 0)\" style=\"width: 20px; height: 20px;background-color: rgb(0, 0, 0);\"></td><td title=\"Index: [3, 9]&#10;Color: (0, 0, 0)\" style=\"width: 20px; height: 20px;background-color: rgb(0, 0, 0);\"></td></tr><tr><td title=\"Index: [4, 0]&#10;Color: (0, 0, 0)\" style=\"width: 20px; height: 20px;background-color: rgb(0, 0, 0);\"></td><td title=\"Index: [4, 1]&#10;Color: (0, 0, 0)\" style=\"width: 20px; height: 20px;background-color: rgb(0, 0, 0);\"></td><td title=\"Index: [4, 2]&#10;Color: (0, 255, 0)\" style=\"width: 20px; height: 20px;background-color: rgb(0, 255, 0);\"></td><td title=\"Index: [4, 3]&#10;Color: (0, 0, 0)\" style=\"width: 20px; height: 20px;background-color: rgb(0, 0, 0);\"></td><td title=\"Index: [4, 4]&#10;Color: (0, 0, 0)\" style=\"width: 20px; height: 20px;background-color: rgb(0, 0, 0);\"></td><td title=\"Index: [4, 5]&#10;Color: (0, 0, 0)\" style=\"width: 20px; height: 20px;background-color: rgb(0, 0, 0);\"></td><td title=\"Index: [4, 6]&#10;Color: (0, 0, 0)\" style=\"width: 20px; height: 20px;background-color: rgb(0, 0, 0);\"></td><td title=\"Index: [4, 7]&#10;Color: (0, 0, 0)\" style=\"width: 20px; height: 20px;background-color: rgb(0, 0, 0);\"></td><td title=\"Index: [4, 8]&#10;Color: (0, 0, 0)\" style=\"width: 20px; height: 20px;background-color: rgb(0, 0, 0);\"></td><td title=\"Index: [4, 9]&#10;Color: (0, 0, 0)\" style=\"width: 20px; height: 20px;background-color: rgb(0, 0, 0);\"></td></tr><tr><td title=\"Index: [5, 0]&#10;Color: (0, 0, 0)\" style=\"width: 20px; height: 20px;background-color: rgb(0, 0, 0);\"></td><td title=\"Index: [5, 1]&#10;Color: (0, 0, 0)\" style=\"width: 20px; height: 20px;background-color: rgb(0, 0, 0);\"></td><td title=\"Index: [5, 2]&#10;Color: (0, 255, 0)\" style=\"width: 20px; height: 20px;background-color: rgb(0, 255, 0);\"></td><td title=\"Index: [5, 3]&#10;Color: (0, 0, 0)\" style=\"width: 20px; height: 20px;background-color: rgb(0, 0, 0);\"></td><td title=\"Index: [5, 4]&#10;Color: (0, 0, 0)\" style=\"width: 20px; height: 20px;background-color: rgb(0, 0, 0);\"></td><td title=\"Index: [5, 5]&#10;Color: (0, 0, 0)\" style=\"width: 20px; height: 20px;background-color: rgb(0, 0, 0);\"></td><td title=\"Index: [5, 6]&#10;Color: (0, 0, 0)\" style=\"width: 20px; height: 20px;background-color: rgb(0, 0, 0);\"></td><td title=\"Index: [5, 7]&#10;Color: (0, 0, 0)\" style=\"width: 20px; height: 20px;background-color: rgb(0, 0, 0);\"></td><td title=\"Index: [5, 8]&#10;Color: (0, 0, 0)\" style=\"width: 20px; height: 20px;background-color: rgb(0, 0, 0);\"></td><td title=\"Index: [5, 9]&#10;Color: (0, 0, 0)\" style=\"width: 20px; height: 20px;background-color: rgb(0, 0, 0);\"></td></tr><tr><td title=\"Index: [6, 0]&#10;Color: (0, 0, 0)\" style=\"width: 20px; height: 20px;background-color: rgb(0, 0, 0);\"></td><td title=\"Index: [6, 1]&#10;Color: (0, 0, 0)\" style=\"width: 20px; height: 20px;background-color: rgb(0, 0, 0);\"></td><td title=\"Index: [6, 2]&#10;Color: (0, 255, 0)\" style=\"width: 20px; height: 20px;background-color: rgb(0, 255, 0);\"></td><td title=\"Index: [6, 3]&#10;Color: (0, 0, 0)\" style=\"width: 20px; height: 20px;background-color: rgb(0, 0, 0);\"></td><td title=\"Index: [6, 4]&#10;Color: (0, 0, 0)\" style=\"width: 20px; height: 20px;background-color: rgb(0, 0, 0);\"></td><td title=\"Index: [6, 5]&#10;Color: (0, 0, 0)\" style=\"width: 20px; height: 20px;background-color: rgb(0, 0, 0);\"></td><td title=\"Index: [6, 6]&#10;Color: (0, 0, 0)\" style=\"width: 20px; height: 20px;background-color: rgb(0, 0, 0);\"></td><td title=\"Index: [6, 7]&#10;Color: (0, 0, 0)\" style=\"width: 20px; height: 20px;background-color: rgb(0, 0, 0);\"></td><td title=\"Index: [6, 8]&#10;Color: (0, 0, 0)\" style=\"width: 20px; height: 20px;background-color: rgb(0, 0, 0);\"></td><td title=\"Index: [6, 9]&#10;Color: (0, 0, 0)\" style=\"width: 20px; height: 20px;background-color: rgb(0, 0, 0);\"></td></tr><tr><td title=\"Index: [7, 0]&#10;Color: (0, 0, 0)\" style=\"width: 20px; height: 20px;background-color: rgb(0, 0, 0);\"></td><td title=\"Index: [7, 1]&#10;Color: (0, 0, 0)\" style=\"width: 20px; height: 20px;background-color: rgb(0, 0, 0);\"></td><td title=\"Index: [7, 2]&#10;Color: (0, 255, 0)\" style=\"width: 20px; height: 20px;background-color: rgb(0, 255, 0);\"></td><td title=\"Index: [7, 3]&#10;Color: (0, 0, 0)\" style=\"width: 20px; height: 20px;background-color: rgb(0, 0, 0);\"></td><td title=\"Index: [7, 4]&#10;Color: (0, 0, 0)\" style=\"width: 20px; height: 20px;background-color: rgb(0, 0, 0);\"></td><td title=\"Index: [7, 5]&#10;Color: (0, 0, 0)\" style=\"width: 20px; height: 20px;background-color: rgb(0, 0, 0);\"></td><td title=\"Index: [7, 6]&#10;Color: (0, 0, 0)\" style=\"width: 20px; height: 20px;background-color: rgb(0, 0, 0);\"></td><td title=\"Index: [7, 7]&#10;Color: (0, 0, 0)\" style=\"width: 20px; height: 20px;background-color: rgb(0, 0, 0);\"></td><td title=\"Index: [7, 8]&#10;Color: (0, 0, 0)\" style=\"width: 20px; height: 20px;background-color: rgb(0, 0, 0);\"></td><td title=\"Index: [7, 9]&#10;Color: (0, 0, 0)\" style=\"width: 20px; height: 20px;background-color: rgb(0, 0, 0);\"></td></tr><tr><td title=\"Index: [8, 0]&#10;Color: (0, 0, 0)\" style=\"width: 20px; height: 20px;background-color: rgb(0, 0, 0);\"></td><td title=\"Index: [8, 1]&#10;Color: (0, 0, 0)\" style=\"width: 20px; height: 20px;background-color: rgb(0, 0, 0);\"></td><td title=\"Index: [8, 2]&#10;Color: (0, 255, 0)\" style=\"width: 20px; height: 20px;background-color: rgb(0, 255, 0);\"></td><td title=\"Index: [8, 3]&#10;Color: (0, 0, 0)\" style=\"width: 20px; height: 20px;background-color: rgb(0, 0, 0);\"></td><td title=\"Index: [8, 4]&#10;Color: (0, 0, 0)\" style=\"width: 20px; height: 20px;background-color: rgb(0, 0, 0);\"></td><td title=\"Index: [8, 5]&#10;Color: (0, 0, 0)\" style=\"width: 20px; height: 20px;background-color: rgb(0, 0, 0);\"></td><td title=\"Index: [8, 6]&#10;Color: (0, 0, 0)\" style=\"width: 20px; height: 20px;background-color: rgb(0, 0, 0);\"></td><td title=\"Index: [8, 7]&#10;Color: (0, 0, 0)\" style=\"width: 20px; height: 20px;background-color: rgb(0, 0, 0);\"></td><td title=\"Index: [8, 8]&#10;Color: (0, 0, 0)\" style=\"width: 20px; height: 20px;background-color: rgb(0, 0, 0);\"></td><td title=\"Index: [8, 9]&#10;Color: (0, 0, 0)\" style=\"width: 20px; height: 20px;background-color: rgb(0, 0, 0);\"></td></tr><tr><td title=\"Index: [9, 0]&#10;Color: (0, 0, 0)\" style=\"width: 20px; height: 20px;background-color: rgb(0, 0, 0);\"></td><td title=\"Index: [9, 1]&#10;Color: (0, 0, 0)\" style=\"width: 20px; height: 20px;background-color: rgb(0, 0, 0);\"></td><td title=\"Index: [9, 2]&#10;Color: (0, 255, 0)\" style=\"width: 20px; height: 20px;background-color: rgb(0, 255, 0);\"></td><td title=\"Index: [9, 3]&#10;Color: (0, 0, 0)\" style=\"width: 20px; height: 20px;background-color: rgb(0, 0, 0);\"></td><td title=\"Index: [9, 4]&#10;Color: (0, 0, 0)\" style=\"width: 20px; height: 20px;background-color: rgb(0, 0, 0);\"></td><td title=\"Index: [9, 5]&#10;Color: (0, 0, 0)\" style=\"width: 20px; height: 20px;background-color: rgb(0, 0, 0);\"></td><td title=\"Index: [9, 6]&#10;Color: (0, 0, 0)\" style=\"width: 20px; height: 20px;background-color: rgb(0, 0, 0);\"></td><td title=\"Index: [9, 7]&#10;Color: (0, 0, 0)\" style=\"width: 20px; height: 20px;background-color: rgb(0, 0, 0);\"></td><td title=\"Index: [9, 8]&#10;Color: (0, 0, 0)\" style=\"width: 20px; height: 20px;background-color: rgb(0, 0, 0);\"></td><td title=\"Index: [9, 9]&#10;Color: (0, 0, 0)\" style=\"width: 20px; height: 20px;background-color: rgb(0, 0, 0);\"></td></tr></tbody></table>"
      ],
      "text/plain": [
       "<ipythonblocks.ipythonblocks.BlockGrid at 0x7fa18e13f048>"
      ]
     },
     "execution_count": 8,
     "metadata": {},
     "output_type": "execute_result"
    }
   ],
   "source": [
    "for i in N:\n",
    "    x = np.random.randint(9)\n",
    "    y = np.random.randint(9)\n",
    "    print (x, y)\n",
    "    for block in grid:\n",
    "        if block.row == x and block.col == y:\n",
    "            block.green = 100\n",
    "        elif block.row == x or block.col == y:\n",
    "            block.green = 1000\n",
    "        else:\n",
    "            block.green = 0\n",
    "            \n",
    "grid"
   ]
  },
  {
   "cell_type": "code",
   "execution_count": null,
   "metadata": {
    "collapsed": true
   },
   "outputs": [],
   "source": []
  },
  {
   "cell_type": "code",
   "execution_count": null,
   "metadata": {
    "collapsed": true
   },
   "outputs": [],
   "source": []
  },
  {
   "cell_type": "code",
   "execution_count": null,
   "metadata": {
    "collapsed": true
   },
   "outputs": [],
   "source": []
  }
 ],
 "metadata": {
  "kernelspec": {
   "display_name": "Python 3",
   "language": "python",
   "name": "python3"
  },
  "language_info": {
   "codemirror_mode": {
    "name": "ipython",
    "version": 3
   },
   "file_extension": ".py",
   "mimetype": "text/x-python",
   "name": "python",
   "nbconvert_exporter": "python",
   "pygments_lexer": "ipython3",
   "version": "3.4.0"
  }
 },
 "nbformat": 4,
 "nbformat_minor": 0
}
